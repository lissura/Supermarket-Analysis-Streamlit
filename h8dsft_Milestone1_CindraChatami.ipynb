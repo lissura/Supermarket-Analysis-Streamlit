{
 "cells": [
  {
   "cell_type": "markdown",
   "metadata": {},
   "source": [
    "# Perkenalan\n",
    "1. Nama : Cindra C\n",
    "2. Batch : 9 Data Science"
   ]
  },
  {
   "cell_type": "markdown",
   "metadata": {},
   "source": [
    "# Milestone 1\n",
    "\n",
    "### Description: \n",
    "These are data that shows information of sales history in a supermarket. \n",
    "\n",
    "### Objective\n",
    "As time goes by, the competition and the behaviour of buyer is changing and I need to adapt. Based on the data I want to know what can I do to improve my revenue and service of our customer. I need to investigate the data and get some insights\n",
    "\n",
    "### Problem : \n",
    "1. How can we increase our revenue?\n",
    "2. How can I make sure that our services is good enough ?\n",
    "3. Between all of the product we sale, which one that gave us profit? "
   ]
  },
  {
   "cell_type": "markdown",
   "metadata": {},
   "source": [
    "## Import Library"
   ]
  },
  {
   "cell_type": "code",
   "execution_count": 204,
   "metadata": {},
   "outputs": [],
   "source": [
    "import pandas as pd\n",
    "from scipy import stats\n",
    "import matplotlib.pyplot as plt\n",
    "import plotly.express as px\n",
    "import seaborn as sns\n",
    "import plotly.graph_objects as go\n",
    "import numpy as np"
   ]
  },
  {
   "cell_type": "markdown",
   "metadata": {},
   "source": [
    "## Data Loading"
   ]
  },
  {
   "cell_type": "code",
   "execution_count": 167,
   "metadata": {},
   "outputs": [
    {
     "data": {
      "text/html": [
       "<div>\n",
       "<style scoped>\n",
       "    .dataframe tbody tr th:only-of-type {\n",
       "        vertical-align: middle;\n",
       "    }\n",
       "\n",
       "    .dataframe tbody tr th {\n",
       "        vertical-align: top;\n",
       "    }\n",
       "\n",
       "    .dataframe thead th {\n",
       "        text-align: right;\n",
       "    }\n",
       "</style>\n",
       "<table border=\"1\" class=\"dataframe\">\n",
       "  <thead>\n",
       "    <tr style=\"text-align: right;\">\n",
       "      <th></th>\n",
       "      <th>Invoice ID</th>\n",
       "      <th>Branch</th>\n",
       "      <th>City</th>\n",
       "      <th>Customer type</th>\n",
       "      <th>Gender</th>\n",
       "      <th>Product line</th>\n",
       "      <th>Unit price</th>\n",
       "      <th>Quantity</th>\n",
       "      <th>Tax 5%</th>\n",
       "      <th>Total</th>\n",
       "      <th>Date</th>\n",
       "      <th>Time</th>\n",
       "      <th>Payment</th>\n",
       "      <th>cogs</th>\n",
       "      <th>gross margin percentage</th>\n",
       "      <th>gross income</th>\n",
       "      <th>Rating</th>\n",
       "    </tr>\n",
       "  </thead>\n",
       "  <tbody>\n",
       "    <tr>\n",
       "      <th>0</th>\n",
       "      <td>750-67-8428</td>\n",
       "      <td>A</td>\n",
       "      <td>Yangon</td>\n",
       "      <td>Member</td>\n",
       "      <td>Female</td>\n",
       "      <td>Health and beauty</td>\n",
       "      <td>74.69</td>\n",
       "      <td>7</td>\n",
       "      <td>26.1415</td>\n",
       "      <td>548.9715</td>\n",
       "      <td>1/5/2019</td>\n",
       "      <td>13:08</td>\n",
       "      <td>Ewallet</td>\n",
       "      <td>522.83</td>\n",
       "      <td>4.761905</td>\n",
       "      <td>26.1415</td>\n",
       "      <td>9.1</td>\n",
       "    </tr>\n",
       "    <tr>\n",
       "      <th>1</th>\n",
       "      <td>226-31-3081</td>\n",
       "      <td>C</td>\n",
       "      <td>Naypyitaw</td>\n",
       "      <td>Normal</td>\n",
       "      <td>Female</td>\n",
       "      <td>Electronic accessories</td>\n",
       "      <td>15.28</td>\n",
       "      <td>5</td>\n",
       "      <td>3.8200</td>\n",
       "      <td>80.2200</td>\n",
       "      <td>3/8/2019</td>\n",
       "      <td>10:29</td>\n",
       "      <td>Cash</td>\n",
       "      <td>76.40</td>\n",
       "      <td>4.761905</td>\n",
       "      <td>3.8200</td>\n",
       "      <td>9.6</td>\n",
       "    </tr>\n",
       "  </tbody>\n",
       "</table>\n",
       "</div>"
      ],
      "text/plain": [
       "    Invoice ID Branch       City Customer type  Gender  \\\n",
       "0  750-67-8428      A     Yangon        Member  Female   \n",
       "1  226-31-3081      C  Naypyitaw        Normal  Female   \n",
       "\n",
       "             Product line  Unit price  Quantity   Tax 5%     Total      Date  \\\n",
       "0       Health and beauty       74.69         7  26.1415  548.9715  1/5/2019   \n",
       "1  Electronic accessories       15.28         5   3.8200   80.2200  3/8/2019   \n",
       "\n",
       "    Time  Payment    cogs  gross margin percentage  gross income  Rating  \n",
       "0  13:08  Ewallet  522.83                 4.761905       26.1415     9.1  \n",
       "1  10:29     Cash   76.40                 4.761905        3.8200     9.6  "
      ]
     },
     "execution_count": 167,
     "metadata": {},
     "output_type": "execute_result"
    }
   ],
   "source": [
    "data = pd.read_csv('D:\\H8 Cindra\\graded\\Milestone\\p0---ftds009---ml1-lissura\\supermarket_sales - Sheet1.csv')\n",
    "data.head(2)"
   ]
  },
  {
   "cell_type": "markdown",
   "metadata": {},
   "source": [
    "Attribute information\n",
    "\n",
    "- Invoice id: Computer generated sales slip invoice identification number\n",
    "- Branch: Branch of supercenter (3 branches are available identified by A, B and C).\n",
    "- City: Location of supercenters\n",
    "- Customer type: Type of customers, recorded by Members for customers using member card and Normal for without member card.\n",
    "- Gender: Gender type of customer\n",
    "- Product line: General item categorization groups - Electronic accessories, Fashion accessories, Food and beverages, Health and beauty, Home and lifestyle, Sports and travel\n",
    "- Unit price: Price of each product in $\n",
    "- Quantity: Number of products purchased by customer\n",
    "- Tax: 5% tax fee for customer buying\n",
    "- Total: Total price including tax\n",
    "- Date: Date of purchase (Record available from January 2019 to March 2019)\n",
    "- Time: Purchase time (10am to 9pm)\n",
    "- Payment: Payment used by customer for purchase (3 methods are available – Cash, Credit card and Ewallet)\n",
    "- COGS: Cost of goods sold\n",
    "- Gross margin percentage: Gross margin percentage\n",
    "- Gross income: Gross income\n",
    "- Rating: Customer stratification rating on their overall shopping experience (On a scale of 1 to 10)"
   ]
  },
  {
   "cell_type": "markdown",
   "metadata": {},
   "source": [
    "## Data Cleaning"
   ]
  },
  {
   "cell_type": "markdown",
   "metadata": {},
   "source": [
    "Checking missing values"
   ]
  },
  {
   "cell_type": "code",
   "execution_count": 168,
   "metadata": {},
   "outputs": [
    {
     "name": "stdout",
     "output_type": "stream",
     "text": [
      "<class 'pandas.core.frame.DataFrame'>\n",
      "RangeIndex: 1000 entries, 0 to 999\n",
      "Data columns (total 17 columns):\n",
      " #   Column                   Non-Null Count  Dtype  \n",
      "---  ------                   --------------  -----  \n",
      " 0   Invoice ID               1000 non-null   object \n",
      " 1   Branch                   1000 non-null   object \n",
      " 2   City                     1000 non-null   object \n",
      " 3   Customer type            1000 non-null   object \n",
      " 4   Gender                   1000 non-null   object \n",
      " 5   Product line             1000 non-null   object \n",
      " 6   Unit price               1000 non-null   float64\n",
      " 7   Quantity                 1000 non-null   int64  \n",
      " 8   Tax 5%                   1000 non-null   float64\n",
      " 9   Total                    1000 non-null   float64\n",
      " 10  Date                     1000 non-null   object \n",
      " 11  Time                     1000 non-null   object \n",
      " 12  Payment                  1000 non-null   object \n",
      " 13  cogs                     1000 non-null   float64\n",
      " 14  gross margin percentage  1000 non-null   float64\n",
      " 15  gross income             1000 non-null   float64\n",
      " 16  Rating                   1000 non-null   float64\n",
      "dtypes: float64(7), int64(1), object(9)\n",
      "memory usage: 132.9+ KB\n"
     ]
    }
   ],
   "source": [
    "data.info()"
   ]
  },
  {
   "cell_type": "markdown",
   "metadata": {},
   "source": [
    "The data have no missing values"
   ]
  },
  {
   "cell_type": "markdown",
   "metadata": {},
   "source": [
    "I need to rename every column into lower case to avoid typos"
   ]
  },
  {
   "cell_type": "code",
   "execution_count": 169,
   "metadata": {},
   "outputs": [],
   "source": [
    "data = data.rename(columns={ 'Customer type' : 'cust_type','Unit price' : 'unit_price', \n",
    "'Tax 5%' : 'tax_5%', 'Branch':'branch',\n",
    "'gross income' : 'gross_income', 'Rating' : 'rating', 'Total' : 'total', 'Date':'date', 'Time':'time',\n",
    "'Gender' :'gender', 'Product line' : 'product_line', 'Payment' :'payment', 'Quantity' : 'quantity'\n",
    "})"
   ]
  },
  {
   "cell_type": "markdown",
   "metadata": {},
   "source": [
    "Converting Date into date type for further analysis."
   ]
  },
  {
   "cell_type": "code",
   "execution_count": 170,
   "metadata": {},
   "outputs": [
    {
     "name": "stdout",
     "output_type": "stream",
     "text": [
      "<class 'pandas.core.frame.DataFrame'>\n",
      "RangeIndex: 1000 entries, 0 to 999\n",
      "Data columns (total 18 columns):\n",
      " #   Column                   Non-Null Count  Dtype         \n",
      "---  ------                   --------------  -----         \n",
      " 0   Invoice ID               1000 non-null   object        \n",
      " 1   branch                   1000 non-null   object        \n",
      " 2   City                     1000 non-null   object        \n",
      " 3   cust_type                1000 non-null   object        \n",
      " 4   gender                   1000 non-null   object        \n",
      " 5   product_line             1000 non-null   object        \n",
      " 6   unit_price               1000 non-null   float64       \n",
      " 7   quantity                 1000 non-null   int64         \n",
      " 8   tax_5%                   1000 non-null   float64       \n",
      " 9   total                    1000 non-null   float64       \n",
      " 10  date                     1000 non-null   datetime64[ns]\n",
      " 11  time                     1000 non-null   object        \n",
      " 12  payment                  1000 non-null   object        \n",
      " 13  cogs                     1000 non-null   float64       \n",
      " 14  gross margin percentage  1000 non-null   float64       \n",
      " 15  gross_income             1000 non-null   float64       \n",
      " 16  rating                   1000 non-null   float64       \n",
      " 17  date2                    1000 non-null   object        \n",
      "dtypes: datetime64[ns](1), float64(7), int64(1), object(9)\n",
      "memory usage: 140.8+ KB\n"
     ]
    }
   ],
   "source": [
    "data['date']= pd.to_datetime(data['date'])\n",
    "data[\"date2\"] = data[\"date\"].dt.strftime(\"%d-%m-%Y\")\n",
    "data.info()"
   ]
  },
  {
   "cell_type": "code",
   "execution_count": 171,
   "metadata": {},
   "outputs": [
    {
     "name": "stdout",
     "output_type": "stream",
     "text": [
      "2019-01-01 00:00:00\n",
      "01-01-2019\n"
     ]
    }
   ],
   "source": [
    "print(data.date.min())\n",
    "print(data.date2.min())"
   ]
  },
  {
   "cell_type": "code",
   "execution_count": 172,
   "metadata": {},
   "outputs": [
    {
     "data": {
      "text/html": [
       "<div>\n",
       "<style scoped>\n",
       "    .dataframe tbody tr th:only-of-type {\n",
       "        vertical-align: middle;\n",
       "    }\n",
       "\n",
       "    .dataframe tbody tr th {\n",
       "        vertical-align: top;\n",
       "    }\n",
       "\n",
       "    .dataframe thead th {\n",
       "        text-align: right;\n",
       "    }\n",
       "</style>\n",
       "<table border=\"1\" class=\"dataframe\">\n",
       "  <thead>\n",
       "    <tr style=\"text-align: right;\">\n",
       "      <th></th>\n",
       "      <th>Invoice ID</th>\n",
       "      <th>branch</th>\n",
       "      <th>City</th>\n",
       "      <th>cust_type</th>\n",
       "      <th>gender</th>\n",
       "      <th>product_line</th>\n",
       "      <th>unit_price</th>\n",
       "      <th>quantity</th>\n",
       "      <th>tax_5%</th>\n",
       "      <th>total</th>\n",
       "      <th>date</th>\n",
       "      <th>time</th>\n",
       "      <th>payment</th>\n",
       "      <th>cogs</th>\n",
       "      <th>gross margin percentage</th>\n",
       "      <th>gross_income</th>\n",
       "      <th>rating</th>\n",
       "      <th>date2</th>\n",
       "    </tr>\n",
       "  </thead>\n",
       "  <tbody>\n",
       "    <tr>\n",
       "      <th>0</th>\n",
       "      <td>750-67-8428</td>\n",
       "      <td>A</td>\n",
       "      <td>Yangon</td>\n",
       "      <td>Member</td>\n",
       "      <td>Female</td>\n",
       "      <td>Health and beauty</td>\n",
       "      <td>74.69</td>\n",
       "      <td>7</td>\n",
       "      <td>26.1415</td>\n",
       "      <td>548.9715</td>\n",
       "      <td>2019-01-05</td>\n",
       "      <td>13:08</td>\n",
       "      <td>Ewallet</td>\n",
       "      <td>522.83</td>\n",
       "      <td>4.761905</td>\n",
       "      <td>26.1415</td>\n",
       "      <td>9.1</td>\n",
       "      <td>05-01-2019</td>\n",
       "    </tr>\n",
       "    <tr>\n",
       "      <th>1</th>\n",
       "      <td>226-31-3081</td>\n",
       "      <td>C</td>\n",
       "      <td>Naypyitaw</td>\n",
       "      <td>Normal</td>\n",
       "      <td>Female</td>\n",
       "      <td>Electronic accessories</td>\n",
       "      <td>15.28</td>\n",
       "      <td>5</td>\n",
       "      <td>3.8200</td>\n",
       "      <td>80.2200</td>\n",
       "      <td>2019-03-08</td>\n",
       "      <td>10:29</td>\n",
       "      <td>Cash</td>\n",
       "      <td>76.40</td>\n",
       "      <td>4.761905</td>\n",
       "      <td>3.8200</td>\n",
       "      <td>9.6</td>\n",
       "      <td>08-03-2019</td>\n",
       "    </tr>\n",
       "  </tbody>\n",
       "</table>\n",
       "</div>"
      ],
      "text/plain": [
       "    Invoice ID branch       City cust_type  gender            product_line  \\\n",
       "0  750-67-8428      A     Yangon    Member  Female       Health and beauty   \n",
       "1  226-31-3081      C  Naypyitaw    Normal  Female  Electronic accessories   \n",
       "\n",
       "   unit_price  quantity   tax_5%     total       date   time  payment    cogs  \\\n",
       "0       74.69         7  26.1415  548.9715 2019-01-05  13:08  Ewallet  522.83   \n",
       "1       15.28         5   3.8200   80.2200 2019-03-08  10:29     Cash   76.40   \n",
       "\n",
       "   gross margin percentage  gross_income  rating       date2  \n",
       "0                 4.761905       26.1415     9.1  05-01-2019  \n",
       "1                 4.761905        3.8200     9.6  08-03-2019  "
      ]
     },
     "execution_count": 172,
     "metadata": {},
     "output_type": "execute_result"
    }
   ],
   "source": [
    "data.head(2)"
   ]
  },
  {
   "cell_type": "code",
   "execution_count": 173,
   "metadata": {},
   "outputs": [
    {
     "data": {
      "text/html": [
       "<div>\n",
       "<style scoped>\n",
       "    .dataframe tbody tr th:only-of-type {\n",
       "        vertical-align: middle;\n",
       "    }\n",
       "\n",
       "    .dataframe tbody tr th {\n",
       "        vertical-align: top;\n",
       "    }\n",
       "\n",
       "    .dataframe thead th {\n",
       "        text-align: right;\n",
       "    }\n",
       "</style>\n",
       "<table border=\"1\" class=\"dataframe\">\n",
       "  <thead>\n",
       "    <tr style=\"text-align: right;\">\n",
       "      <th></th>\n",
       "      <th>Invoice ID</th>\n",
       "      <th>branch</th>\n",
       "      <th>City</th>\n",
       "      <th>cust_type</th>\n",
       "      <th>gender</th>\n",
       "      <th>product_line</th>\n",
       "      <th>unit_price</th>\n",
       "      <th>quantity</th>\n",
       "      <th>tax_5%</th>\n",
       "      <th>total</th>\n",
       "      <th>date</th>\n",
       "      <th>time</th>\n",
       "      <th>payment</th>\n",
       "      <th>cogs</th>\n",
       "      <th>gross margin percentage</th>\n",
       "      <th>gross_income</th>\n",
       "      <th>rating</th>\n",
       "      <th>date2</th>\n",
       "    </tr>\n",
       "  </thead>\n",
       "  <tbody>\n",
       "    <tr>\n",
       "      <th>0</th>\n",
       "      <td>750-67-8428</td>\n",
       "      <td>A</td>\n",
       "      <td>Yangon</td>\n",
       "      <td>Member</td>\n",
       "      <td>Female</td>\n",
       "      <td>Health and beauty</td>\n",
       "      <td>74.69</td>\n",
       "      <td>7</td>\n",
       "      <td>26.1415</td>\n",
       "      <td>548.9715</td>\n",
       "      <td>2019-01-05</td>\n",
       "      <td>13</td>\n",
       "      <td>Ewallet</td>\n",
       "      <td>522.83</td>\n",
       "      <td>4.761905</td>\n",
       "      <td>26.1415</td>\n",
       "      <td>9.1</td>\n",
       "      <td>05-01-2019</td>\n",
       "    </tr>\n",
       "    <tr>\n",
       "      <th>1</th>\n",
       "      <td>226-31-3081</td>\n",
       "      <td>C</td>\n",
       "      <td>Naypyitaw</td>\n",
       "      <td>Normal</td>\n",
       "      <td>Female</td>\n",
       "      <td>Electronic accessories</td>\n",
       "      <td>15.28</td>\n",
       "      <td>5</td>\n",
       "      <td>3.8200</td>\n",
       "      <td>80.2200</td>\n",
       "      <td>2019-03-08</td>\n",
       "      <td>10</td>\n",
       "      <td>Cash</td>\n",
       "      <td>76.40</td>\n",
       "      <td>4.761905</td>\n",
       "      <td>3.8200</td>\n",
       "      <td>9.6</td>\n",
       "      <td>08-03-2019</td>\n",
       "    </tr>\n",
       "  </tbody>\n",
       "</table>\n",
       "</div>"
      ],
      "text/plain": [
       "    Invoice ID branch       City cust_type  gender            product_line  \\\n",
       "0  750-67-8428      A     Yangon    Member  Female       Health and beauty   \n",
       "1  226-31-3081      C  Naypyitaw    Normal  Female  Electronic accessories   \n",
       "\n",
       "   unit_price  quantity   tax_5%     total       date  time  payment    cogs  \\\n",
       "0       74.69         7  26.1415  548.9715 2019-01-05    13  Ewallet  522.83   \n",
       "1       15.28         5   3.8200   80.2200 2019-03-08    10     Cash   76.40   \n",
       "\n",
       "   gross margin percentage  gross_income  rating       date2  \n",
       "0                 4.761905       26.1415     9.1  05-01-2019  \n",
       "1                 4.761905        3.8200     9.6  08-03-2019  "
      ]
     },
     "execution_count": 173,
     "metadata": {},
     "output_type": "execute_result"
    }
   ],
   "source": [
    "#change the time column into hour only\n",
    "data['time'] = data['time'].str.split(':', expand=True).get(0).astype('int64')\n",
    "data.head(2)"
   ]
  },
  {
   "cell_type": "markdown",
   "metadata": {},
   "source": [
    "Okay, time to explore our data."
   ]
  },
  {
   "cell_type": "code",
   "execution_count": 210,
   "metadata": {},
   "outputs": [],
   "source": [
    "data.to_csv('cleanData.csv') #exporting new clean data"
   ]
  },
  {
   "cell_type": "markdown",
   "metadata": {},
   "source": [
    "## EDA"
   ]
  },
  {
   "cell_type": "markdown",
   "metadata": {},
   "source": [
    "### What time is the busiest time for shopping in each branch?"
   ]
  },
  {
   "cell_type": "markdown",
   "metadata": {},
   "source": [
    "Taking the amount of quantity by time in each branch"
   ]
  },
  {
   "cell_type": "code",
   "execution_count": 175,
   "metadata": {},
   "outputs": [
    {
     "data": {
      "application/vnd.plotly.v1+json": {
       "config": {
        "plotlyServerURL": "https://plot.ly"
       },
       "data": [
        {
         "alignmentgroup": "True",
         "bingroup": "x",
         "histfunc": "sum",
         "hovertemplate": "branch=A<br>time=%{x}<br>sum of quantity=%{y}<extra></extra>",
         "legendgroup": "A",
         "marker": {
          "color": "#636efa",
          "pattern": {
           "shape": ""
          }
         },
         "name": "A",
         "offsetgroup": "A",
         "orientation": "v",
         "showlegend": true,
         "type": "histogram",
         "x": [
          13,
          19,
          19,
          16,
          14,
          13,
          18,
          12,
          18,
          17,
          20,
          15,
          18,
          18,
          18,
          13,
          16,
          20,
          17,
          18,
          11,
          15,
          13,
          15,
          12,
          10,
          15,
          15,
          19,
          11,
          10,
          13,
          17,
          11,
          12,
          11,
          10,
          12,
          12,
          14,
          13,
          11,
          14,
          12,
          16,
          14,
          11,
          13,
          13,
          14,
          19,
          13,
          13,
          15,
          16,
          15,
          18,
          10,
          12,
          16,
          11,
          19,
          15,
          18,
          19,
          13,
          18,
          13,
          10,
          17,
          10,
          17,
          13,
          20,
          17,
          15,
          14,
          10,
          12,
          20,
          14,
          15,
          11,
          17,
          19,
          15,
          11,
          13,
          16,
          12,
          11,
          13,
          12,
          14,
          10,
          19,
          17,
          18,
          13,
          19,
          19,
          15,
          14,
          20,
          10,
          12,
          18,
          16,
          13,
          10,
          13,
          12,
          12,
          10,
          17,
          11,
          18,
          17,
          12,
          16,
          15,
          15,
          10,
          11,
          15,
          16,
          19,
          12,
          14,
          13,
          19,
          10,
          13,
          12,
          16,
          11,
          17,
          10,
          13,
          14,
          18,
          12,
          19,
          18,
          10,
          11,
          13,
          18,
          11,
          12,
          16,
          15,
          13,
          19,
          14,
          17,
          14,
          14,
          18,
          19,
          17,
          13,
          20,
          19,
          14,
          17,
          10,
          15,
          18,
          12,
          15,
          15,
          18,
          15,
          20,
          11,
          20,
          14,
          19,
          18,
          16,
          10,
          11,
          17,
          12,
          18,
          10,
          10,
          16,
          11,
          18,
          10,
          10,
          12,
          16,
          18,
          20,
          17,
          19,
          20,
          19,
          12,
          10,
          17,
          12,
          13,
          13,
          18,
          19,
          15,
          17,
          15,
          10,
          14,
          17,
          18,
          20,
          10,
          16,
          14,
          18,
          10,
          16,
          19,
          11,
          20,
          10,
          14,
          18,
          17,
          18,
          16,
          11,
          15,
          12,
          12,
          20,
          15,
          16,
          14,
          16,
          17,
          15,
          11,
          17,
          15,
          18,
          11,
          13,
          12,
          10,
          15,
          14,
          11,
          10,
          10,
          15,
          11,
          14,
          20,
          20,
          20,
          17,
          18,
          20,
          20,
          15,
          19,
          16,
          12,
          13,
          11,
          15,
          16,
          19,
          20,
          12,
          10,
          11,
          12,
          11,
          16,
          10,
          17,
          16,
          11,
          15,
          16,
          16,
          19,
          15,
          10,
          16,
          13,
          20,
          10,
          14,
          17,
          10,
          16,
          19,
          11,
          10,
          18,
          11,
          17,
          19,
          12,
          15,
          10,
          16,
          20,
          15,
          10,
          18,
          10,
          20,
          16,
          15,
          11,
          11,
          15,
          17,
          19,
          12,
          16,
          13,
          13,
          16,
          11,
          18,
          12,
          14,
          11,
          16,
          11,
          14,
          15,
          18,
          12
         ],
         "xaxis": "x",
         "y": [
          7,
          6,
          9,
          5,
          6,
          6,
          2,
          7,
          7,
          5,
          8,
          1,
          10,
          4,
          8,
          5,
          5,
          3,
          5,
          10,
          4,
          5,
          4,
          1,
          5,
          7,
          9,
          6,
          6,
          1,
          10,
          5,
          4,
          6,
          9,
          10,
          1,
          1,
          7,
          2,
          3,
          3,
          1,
          5,
          5,
          3,
          1,
          4,
          4,
          5,
          7,
          9,
          10,
          6,
          3,
          6,
          7,
          6,
          9,
          10,
          3,
          4,
          3,
          7,
          8,
          5,
          6,
          9,
          5,
          2,
          3,
          8,
          7,
          7,
          4,
          4,
          6,
          2,
          6,
          1,
          4,
          6,
          1,
          8,
          10,
          2,
          9,
          10,
          4,
          7,
          10,
          9,
          4,
          7,
          7,
          5,
          3,
          3,
          5,
          4,
          5,
          4,
          5,
          5,
          1,
          10,
          1,
          10,
          5,
          4,
          4,
          5,
          9,
          4,
          6,
          8,
          7,
          7,
          1,
          9,
          3,
          9,
          5,
          2,
          5,
          5,
          1,
          2,
          3,
          10,
          1,
          7,
          2,
          6,
          8,
          4,
          6,
          7,
          4,
          3,
          2,
          9,
          10,
          4,
          2,
          1,
          6,
          1,
          3,
          1,
          2,
          3,
          5,
          1,
          1,
          8,
          10,
          5,
          3,
          9,
          7,
          1,
          2,
          5,
          9,
          4,
          4,
          3,
          3,
          3,
          9,
          1,
          2,
          9,
          5,
          7,
          7,
          5,
          10,
          4,
          3,
          5,
          10,
          9,
          4,
          3,
          8,
          8,
          2,
          7,
          4,
          3,
          2,
          3,
          7,
          5,
          6,
          3,
          9,
          4,
          5,
          10,
          3,
          10,
          2,
          6,
          3,
          4,
          10,
          4,
          1,
          5,
          3,
          3,
          10,
          9,
          7,
          2,
          3,
          10,
          1,
          10,
          4,
          3,
          1,
          8,
          8,
          1,
          10,
          4,
          2,
          4,
          9,
          10,
          2,
          7,
          1,
          7,
          7,
          1,
          4,
          6,
          4,
          5,
          8,
          4,
          10,
          6,
          8,
          10,
          5,
          2,
          2,
          9,
          6,
          1,
          8,
          8,
          10,
          6,
          9,
          10,
          8,
          7,
          6,
          5,
          6,
          8,
          6,
          10,
          8,
          9,
          5,
          1,
          7,
          9,
          9,
          1,
          5,
          1,
          7,
          6,
          10,
          8,
          9,
          5,
          7,
          6,
          10,
          6,
          1,
          3,
          7,
          7,
          8,
          7,
          6,
          2,
          5,
          10,
          10,
          7,
          6,
          3,
          5,
          3,
          8,
          2,
          9,
          2,
          1,
          7,
          9,
          9,
          1,
          10,
          1,
          10,
          10,
          8,
          2,
          5,
          9,
          5,
          10,
          3,
          5,
          7,
          4,
          4,
          10,
          2,
          5,
          1,
          9,
          4,
          8,
          2,
          2,
          8
         ],
         "yaxis": "y"
        },
        {
         "alignmentgroup": "True",
         "bingroup": "x",
         "histfunc": "sum",
         "hovertemplate": "branch=B<br>time=%{x}<br>sum of quantity=%{y}<extra></extra>",
         "legendgroup": "B",
         "marker": {
          "color": "#EF553B",
          "pattern": {
           "shape": ""
          }
         },
         "name": "B",
         "offsetgroup": "B",
         "orientation": "v",
         "showlegend": true,
         "type": "histogram",
         "x": [
          11,
          14,
          14,
          17,
          16,
          11,
          13,
          12,
          15,
          13,
          11,
          11,
          18,
          19,
          13,
          15,
          18,
          13,
          12,
          11,
          15,
          11,
          11,
          15,
          13,
          15,
          16,
          14,
          10,
          19,
          19,
          18,
          17,
          14,
          13,
          14,
          10,
          18,
          11,
          11,
          14,
          12,
          10,
          19,
          13,
          20,
          12,
          15,
          13,
          14,
          19,
          11,
          20,
          15,
          17,
          19,
          13,
          19,
          11,
          14,
          20,
          17,
          14,
          20,
          10,
          10,
          15,
          18,
          19,
          12,
          19,
          11,
          17,
          15,
          20,
          10,
          13,
          19,
          13,
          20,
          12,
          18,
          19,
          13,
          16,
          15,
          15,
          14,
          20,
          10,
          17,
          10,
          10,
          18,
          17,
          11,
          18,
          13,
          20,
          15,
          10,
          18,
          14,
          15,
          16,
          20,
          20,
          14,
          20,
          16,
          18,
          12,
          18,
          20,
          11,
          19,
          18,
          13,
          19,
          15,
          10,
          12,
          15,
          15,
          17,
          11,
          13,
          19,
          19,
          18,
          16,
          10,
          13,
          17,
          11,
          19,
          10,
          11,
          20,
          13,
          18,
          20,
          11,
          12,
          15,
          18,
          15,
          20,
          11,
          18,
          17,
          11,
          19,
          15,
          15,
          18,
          16,
          13,
          16,
          14,
          16,
          19,
          18,
          19,
          14,
          11,
          13,
          11,
          18,
          13,
          12,
          19,
          10,
          19,
          11,
          18,
          19,
          19,
          12,
          11,
          14,
          12,
          18,
          15,
          14,
          13,
          15,
          19,
          19,
          10,
          17,
          14,
          16,
          13,
          10,
          18,
          18,
          11,
          13,
          14,
          14,
          19,
          20,
          16,
          11,
          17,
          10,
          19,
          15,
          19,
          20,
          16,
          18,
          14,
          20,
          14,
          19,
          17,
          13,
          13,
          13,
          19,
          14,
          12,
          12,
          13,
          10,
          19,
          12,
          11,
          19,
          13,
          11,
          15,
          18,
          18,
          19,
          18,
          20,
          14,
          19,
          15,
          13,
          12,
          18,
          13,
          13,
          17,
          18,
          10,
          18,
          19,
          15,
          19,
          13,
          13,
          15,
          12,
          13,
          11,
          19,
          15,
          13,
          12,
          18,
          19,
          19,
          19,
          19,
          19,
          14,
          19,
          16,
          15,
          20,
          17,
          13,
          10,
          11,
          20,
          17,
          19,
          13,
          12,
          15,
          15,
          16,
          18,
          10,
          11,
          12,
          10,
          17,
          11,
          17,
          14,
          18,
          20,
          17,
          10,
          14,
          12,
          16,
          19,
          19,
          10,
          18,
          14,
          10,
          12,
          12,
          16,
          17,
          14,
          15,
          19,
          10,
          20,
          14,
          11,
          13,
          19,
          19,
          19,
          20,
          14,
          20,
          12,
          16,
          18,
          12,
          20
         ],
         "xaxis": "x",
         "y": [
          7,
          8,
          8,
          9,
          1,
          3,
          3,
          10,
          7,
          6,
          3,
          10,
          1,
          3,
          8,
          3,
          4,
          6,
          6,
          9,
          4,
          10,
          9,
          9,
          7,
          1,
          2,
          10,
          9,
          6,
          8,
          4,
          9,
          4,
          6,
          6,
          2,
          4,
          10,
          3,
          10,
          2,
          9,
          1,
          4,
          1,
          4,
          8,
          5,
          9,
          6,
          1,
          5,
          6,
          8,
          10,
          3,
          2,
          10,
          2,
          4,
          5,
          8,
          3,
          9,
          8,
          10,
          4,
          7,
          8,
          2,
          10,
          5,
          10,
          1,
          7,
          2,
          4,
          8,
          7,
          9,
          4,
          2,
          3,
          6,
          8,
          5,
          4,
          3,
          7,
          10,
          10,
          7,
          3,
          10,
          9,
          4,
          3,
          7,
          6,
          1,
          6,
          8,
          6,
          8,
          4,
          4,
          7,
          1,
          6,
          8,
          9,
          5,
          9,
          4,
          3,
          4,
          6,
          8,
          10,
          10,
          9,
          8,
          5,
          6,
          4,
          10,
          9,
          10,
          5,
          2,
          1,
          7,
          3,
          9,
          3,
          2,
          7,
          4,
          3,
          6,
          6,
          3,
          5,
          1,
          4,
          9,
          2,
          6,
          5,
          1,
          2,
          1,
          10,
          2,
          8,
          2,
          3,
          8,
          5,
          4,
          4,
          7,
          5,
          4,
          7,
          9,
          10,
          10,
          9,
          2,
          6,
          1,
          1,
          2,
          4,
          7,
          2,
          7,
          2,
          8,
          9,
          3,
          9,
          2,
          10,
          6,
          4,
          1,
          5,
          4,
          2,
          9,
          6,
          9,
          2,
          4,
          4,
          3,
          10,
          10,
          4,
          4,
          1,
          6,
          2,
          4,
          8,
          2,
          7,
          10,
          6,
          1,
          7,
          1,
          7,
          2,
          5,
          3,
          2,
          9,
          8,
          8,
          3,
          9,
          4,
          3,
          5,
          5,
          10,
          7,
          3,
          10,
          7,
          10,
          5,
          4,
          10,
          7,
          9,
          7,
          9,
          6,
          8,
          3,
          6,
          7,
          10,
          9,
          4,
          3,
          8,
          8,
          8,
          1,
          7,
          7,
          5,
          4,
          2,
          9,
          6,
          3,
          4,
          1,
          2,
          7,
          9,
          9,
          5,
          2,
          5,
          1,
          3,
          1,
          1,
          1,
          3,
          2,
          8,
          6,
          2,
          9,
          8,
          4,
          1,
          10,
          5,
          10,
          3,
          3,
          6,
          8,
          4,
          1,
          8,
          6,
          3,
          1,
          3,
          6,
          4,
          5,
          5,
          3,
          6,
          7,
          5,
          6,
          3,
          5,
          1,
          2,
          5,
          1,
          5,
          10,
          9,
          10,
          1,
          6,
          2,
          3,
          6,
          10,
          9,
          1,
          10,
          5,
          6,
          2,
          6
         ],
         "yaxis": "y"
        },
        {
         "alignmentgroup": "True",
         "bingroup": "x",
         "histfunc": "sum",
         "hovertemplate": "branch=C<br>time=%{x}<br>sum of quantity=%{y}<extra></extra>",
         "legendgroup": "C",
         "marker": {
          "color": "#00cc96",
          "pattern": {
           "shape": ""
          }
         },
         "name": "C",
         "offsetgroup": "C",
         "orientation": "v",
         "showlegend": true,
         "type": "histogram",
         "x": [
          14,
          15,
          19,
          18,
          16,
          13,
          18,
          18,
          19,
          10,
          13,
          13,
          20,
          19,
          10,
          16,
          19,
          12,
          20,
          17,
          13,
          17,
          15,
          10,
          10,
          19,
          14,
          18,
          17,
          14,
          17,
          13,
          13,
          16,
          11,
          16,
          10,
          10,
          14,
          10,
          11,
          14,
          12,
          20,
          17,
          17,
          19,
          11,
          18,
          19,
          10,
          12,
          12,
          18,
          17,
          14,
          15,
          20,
          13,
          12,
          13,
          10,
          20,
          13,
          10,
          19,
          15,
          19,
          17,
          12,
          16,
          14,
          11,
          15,
          17,
          15,
          10,
          12,
          19,
          10,
          17,
          12,
          18,
          12,
          12,
          15,
          15,
          11,
          11,
          10,
          17,
          12,
          18,
          14,
          13,
          12,
          17,
          11,
          11,
          15,
          18,
          17,
          14,
          13,
          19,
          13,
          16,
          16,
          10,
          10,
          16,
          10,
          11,
          12,
          11,
          10,
          13,
          11,
          11,
          18,
          10,
          15,
          16,
          13,
          15,
          18,
          17,
          11,
          14,
          19,
          14,
          16,
          17,
          20,
          12,
          10,
          18,
          11,
          19,
          10,
          19,
          11,
          13,
          11,
          15,
          20,
          20,
          15,
          19,
          17,
          19,
          12,
          19,
          11,
          15,
          13,
          20,
          19,
          20,
          19,
          16,
          16,
          19,
          18,
          17,
          18,
          17,
          12,
          17,
          14,
          19,
          12,
          16,
          18,
          14,
          20,
          13,
          20,
          15,
          14,
          10,
          14,
          16,
          12,
          13,
          18,
          12,
          15,
          16,
          15,
          13,
          20,
          16,
          15,
          13,
          13,
          13,
          19,
          10,
          13,
          20,
          19,
          16,
          19,
          15,
          19,
          17,
          13,
          20,
          20,
          19,
          10,
          10,
          12,
          14,
          18,
          18,
          13,
          18,
          13,
          17,
          19,
          10,
          12,
          15,
          15,
          13,
          11,
          20,
          20,
          12,
          16,
          14,
          13,
          20,
          19,
          13,
          12,
          10,
          14,
          13,
          14,
          15,
          20,
          14,
          11,
          10,
          16,
          19,
          20,
          18,
          18,
          10,
          14,
          10,
          12,
          18,
          10,
          10,
          14,
          16,
          16,
          19,
          15,
          12,
          14,
          15,
          12,
          20,
          15,
          20,
          17,
          13,
          14,
          20,
          10,
          17,
          18,
          18,
          19,
          15,
          17,
          10,
          13,
          11,
          20,
          13,
          10,
          15,
          12,
          17,
          14,
          12,
          16,
          16,
          15,
          16,
          20,
          19,
          10,
          19,
          16,
          20,
          11,
          12,
          13,
          10,
          14,
          16,
          15,
          14,
          17,
          15,
          19,
          19,
          12,
          12,
          19,
          15,
          16,
          15,
          17,
          18,
          10,
          16,
          11,
          15,
          14
         ],
         "xaxis": "x",
         "y": [
          2,
          10,
          2,
          6,
          5,
          4,
          5,
          10,
          8,
          5,
          1,
          7,
          3,
          10,
          7,
          10,
          9,
          10,
          8,
          10,
          1,
          4,
          7,
          6,
          5,
          8,
          6,
          5,
          6,
          9,
          8,
          1,
          5,
          10,
          8,
          7,
          5,
          3,
          1,
          9,
          1,
          9,
          2,
          4,
          4,
          10,
          7,
          7,
          7,
          2,
          6,
          7,
          8,
          10,
          3,
          2,
          9,
          6,
          4,
          2,
          8,
          7,
          3,
          6,
          2,
          10,
          1,
          8,
          1,
          10,
          10,
          8,
          6,
          1,
          9,
          1,
          7,
          6,
          3,
          10,
          5,
          4,
          2,
          5,
          8,
          2,
          3,
          7,
          4,
          4,
          1,
          1,
          5,
          4,
          4,
          2,
          2,
          10,
          5,
          1,
          2,
          10,
          1,
          1,
          2,
          7,
          4,
          2,
          7,
          3,
          3,
          7,
          8,
          6,
          1,
          1,
          7,
          10,
          5,
          1,
          4,
          5,
          1,
          10,
          8,
          7,
          3,
          10,
          1,
          5,
          8,
          4,
          2,
          8,
          10,
          1,
          6,
          7,
          8,
          9,
          2,
          2,
          10,
          6,
          5,
          5,
          4,
          1,
          2,
          6,
          2,
          1,
          8,
          6,
          2,
          10,
          1,
          10,
          10,
          7,
          4,
          4,
          9,
          9,
          4,
          7,
          10,
          6,
          6,
          10,
          9,
          4,
          4,
          9,
          2,
          2,
          10,
          10,
          1,
          10,
          8,
          2,
          5,
          3,
          5,
          5,
          1,
          8,
          6,
          4,
          6,
          4,
          2,
          1,
          10,
          3,
          3,
          9,
          1,
          4,
          9,
          1,
          4,
          5,
          1,
          4,
          7,
          1,
          4,
          6,
          5,
          6,
          7,
          3,
          9,
          2,
          7,
          8,
          6,
          6,
          7,
          1,
          8,
          9,
          9,
          4,
          9,
          9,
          8,
          1,
          8,
          10,
          9,
          7,
          6,
          7,
          9,
          2,
          9,
          10,
          6,
          10,
          9,
          7,
          8,
          3,
          1,
          7,
          7,
          3,
          8,
          4,
          5,
          7,
          5,
          9,
          3,
          3,
          4,
          5,
          1,
          8,
          10,
          1,
          7,
          10,
          7,
          10,
          1,
          4,
          7,
          8,
          5,
          6,
          10,
          1,
          1,
          2,
          5,
          9,
          1,
          7,
          6,
          10,
          10,
          7,
          10,
          1,
          2,
          3,
          6,
          4,
          4,
          7,
          10,
          10,
          7,
          10,
          10,
          6,
          3,
          6,
          9,
          2,
          7,
          3,
          1,
          4,
          10,
          2,
          6,
          5,
          5,
          4,
          8,
          1,
          7,
          8,
          5,
          9,
          8,
          6,
          5,
          1,
          1,
          9,
          8,
          10
         ],
         "yaxis": "y"
        }
       ],
       "layout": {
        "barmode": "group",
        "legend": {
         "title": {
          "text": "branch"
         },
         "tracegroupgap": 0
        },
        "margin": {
         "t": 60
        },
        "template": {
         "data": {
          "bar": [
           {
            "error_x": {
             "color": "#2a3f5f"
            },
            "error_y": {
             "color": "#2a3f5f"
            },
            "marker": {
             "line": {
              "color": "#E5ECF6",
              "width": 0.5
             },
             "pattern": {
              "fillmode": "overlay",
              "size": 10,
              "solidity": 0.2
             }
            },
            "type": "bar"
           }
          ],
          "barpolar": [
           {
            "marker": {
             "line": {
              "color": "#E5ECF6",
              "width": 0.5
             },
             "pattern": {
              "fillmode": "overlay",
              "size": 10,
              "solidity": 0.2
             }
            },
            "type": "barpolar"
           }
          ],
          "carpet": [
           {
            "aaxis": {
             "endlinecolor": "#2a3f5f",
             "gridcolor": "white",
             "linecolor": "white",
             "minorgridcolor": "white",
             "startlinecolor": "#2a3f5f"
            },
            "baxis": {
             "endlinecolor": "#2a3f5f",
             "gridcolor": "white",
             "linecolor": "white",
             "minorgridcolor": "white",
             "startlinecolor": "#2a3f5f"
            },
            "type": "carpet"
           }
          ],
          "choropleth": [
           {
            "colorbar": {
             "outlinewidth": 0,
             "ticks": ""
            },
            "type": "choropleth"
           }
          ],
          "contour": [
           {
            "colorbar": {
             "outlinewidth": 0,
             "ticks": ""
            },
            "colorscale": [
             [
              0,
              "#0d0887"
             ],
             [
              0.1111111111111111,
              "#46039f"
             ],
             [
              0.2222222222222222,
              "#7201a8"
             ],
             [
              0.3333333333333333,
              "#9c179e"
             ],
             [
              0.4444444444444444,
              "#bd3786"
             ],
             [
              0.5555555555555556,
              "#d8576b"
             ],
             [
              0.6666666666666666,
              "#ed7953"
             ],
             [
              0.7777777777777778,
              "#fb9f3a"
             ],
             [
              0.8888888888888888,
              "#fdca26"
             ],
             [
              1,
              "#f0f921"
             ]
            ],
            "type": "contour"
           }
          ],
          "contourcarpet": [
           {
            "colorbar": {
             "outlinewidth": 0,
             "ticks": ""
            },
            "type": "contourcarpet"
           }
          ],
          "heatmap": [
           {
            "colorbar": {
             "outlinewidth": 0,
             "ticks": ""
            },
            "colorscale": [
             [
              0,
              "#0d0887"
             ],
             [
              0.1111111111111111,
              "#46039f"
             ],
             [
              0.2222222222222222,
              "#7201a8"
             ],
             [
              0.3333333333333333,
              "#9c179e"
             ],
             [
              0.4444444444444444,
              "#bd3786"
             ],
             [
              0.5555555555555556,
              "#d8576b"
             ],
             [
              0.6666666666666666,
              "#ed7953"
             ],
             [
              0.7777777777777778,
              "#fb9f3a"
             ],
             [
              0.8888888888888888,
              "#fdca26"
             ],
             [
              1,
              "#f0f921"
             ]
            ],
            "type": "heatmap"
           }
          ],
          "heatmapgl": [
           {
            "colorbar": {
             "outlinewidth": 0,
             "ticks": ""
            },
            "colorscale": [
             [
              0,
              "#0d0887"
             ],
             [
              0.1111111111111111,
              "#46039f"
             ],
             [
              0.2222222222222222,
              "#7201a8"
             ],
             [
              0.3333333333333333,
              "#9c179e"
             ],
             [
              0.4444444444444444,
              "#bd3786"
             ],
             [
              0.5555555555555556,
              "#d8576b"
             ],
             [
              0.6666666666666666,
              "#ed7953"
             ],
             [
              0.7777777777777778,
              "#fb9f3a"
             ],
             [
              0.8888888888888888,
              "#fdca26"
             ],
             [
              1,
              "#f0f921"
             ]
            ],
            "type": "heatmapgl"
           }
          ],
          "histogram": [
           {
            "marker": {
             "pattern": {
              "fillmode": "overlay",
              "size": 10,
              "solidity": 0.2
             }
            },
            "type": "histogram"
           }
          ],
          "histogram2d": [
           {
            "colorbar": {
             "outlinewidth": 0,
             "ticks": ""
            },
            "colorscale": [
             [
              0,
              "#0d0887"
             ],
             [
              0.1111111111111111,
              "#46039f"
             ],
             [
              0.2222222222222222,
              "#7201a8"
             ],
             [
              0.3333333333333333,
              "#9c179e"
             ],
             [
              0.4444444444444444,
              "#bd3786"
             ],
             [
              0.5555555555555556,
              "#d8576b"
             ],
             [
              0.6666666666666666,
              "#ed7953"
             ],
             [
              0.7777777777777778,
              "#fb9f3a"
             ],
             [
              0.8888888888888888,
              "#fdca26"
             ],
             [
              1,
              "#f0f921"
             ]
            ],
            "type": "histogram2d"
           }
          ],
          "histogram2dcontour": [
           {
            "colorbar": {
             "outlinewidth": 0,
             "ticks": ""
            },
            "colorscale": [
             [
              0,
              "#0d0887"
             ],
             [
              0.1111111111111111,
              "#46039f"
             ],
             [
              0.2222222222222222,
              "#7201a8"
             ],
             [
              0.3333333333333333,
              "#9c179e"
             ],
             [
              0.4444444444444444,
              "#bd3786"
             ],
             [
              0.5555555555555556,
              "#d8576b"
             ],
             [
              0.6666666666666666,
              "#ed7953"
             ],
             [
              0.7777777777777778,
              "#fb9f3a"
             ],
             [
              0.8888888888888888,
              "#fdca26"
             ],
             [
              1,
              "#f0f921"
             ]
            ],
            "type": "histogram2dcontour"
           }
          ],
          "mesh3d": [
           {
            "colorbar": {
             "outlinewidth": 0,
             "ticks": ""
            },
            "type": "mesh3d"
           }
          ],
          "parcoords": [
           {
            "line": {
             "colorbar": {
              "outlinewidth": 0,
              "ticks": ""
             }
            },
            "type": "parcoords"
           }
          ],
          "pie": [
           {
            "automargin": true,
            "type": "pie"
           }
          ],
          "scatter": [
           {
            "marker": {
             "colorbar": {
              "outlinewidth": 0,
              "ticks": ""
             }
            },
            "type": "scatter"
           }
          ],
          "scatter3d": [
           {
            "line": {
             "colorbar": {
              "outlinewidth": 0,
              "ticks": ""
             }
            },
            "marker": {
             "colorbar": {
              "outlinewidth": 0,
              "ticks": ""
             }
            },
            "type": "scatter3d"
           }
          ],
          "scattercarpet": [
           {
            "marker": {
             "colorbar": {
              "outlinewidth": 0,
              "ticks": ""
             }
            },
            "type": "scattercarpet"
           }
          ],
          "scattergeo": [
           {
            "marker": {
             "colorbar": {
              "outlinewidth": 0,
              "ticks": ""
             }
            },
            "type": "scattergeo"
           }
          ],
          "scattergl": [
           {
            "marker": {
             "colorbar": {
              "outlinewidth": 0,
              "ticks": ""
             }
            },
            "type": "scattergl"
           }
          ],
          "scattermapbox": [
           {
            "marker": {
             "colorbar": {
              "outlinewidth": 0,
              "ticks": ""
             }
            },
            "type": "scattermapbox"
           }
          ],
          "scatterpolar": [
           {
            "marker": {
             "colorbar": {
              "outlinewidth": 0,
              "ticks": ""
             }
            },
            "type": "scatterpolar"
           }
          ],
          "scatterpolargl": [
           {
            "marker": {
             "colorbar": {
              "outlinewidth": 0,
              "ticks": ""
             }
            },
            "type": "scatterpolargl"
           }
          ],
          "scatterternary": [
           {
            "marker": {
             "colorbar": {
              "outlinewidth": 0,
              "ticks": ""
             }
            },
            "type": "scatterternary"
           }
          ],
          "surface": [
           {
            "colorbar": {
             "outlinewidth": 0,
             "ticks": ""
            },
            "colorscale": [
             [
              0,
              "#0d0887"
             ],
             [
              0.1111111111111111,
              "#46039f"
             ],
             [
              0.2222222222222222,
              "#7201a8"
             ],
             [
              0.3333333333333333,
              "#9c179e"
             ],
             [
              0.4444444444444444,
              "#bd3786"
             ],
             [
              0.5555555555555556,
              "#d8576b"
             ],
             [
              0.6666666666666666,
              "#ed7953"
             ],
             [
              0.7777777777777778,
              "#fb9f3a"
             ],
             [
              0.8888888888888888,
              "#fdca26"
             ],
             [
              1,
              "#f0f921"
             ]
            ],
            "type": "surface"
           }
          ],
          "table": [
           {
            "cells": {
             "fill": {
              "color": "#EBF0F8"
             },
             "line": {
              "color": "white"
             }
            },
            "header": {
             "fill": {
              "color": "#C8D4E3"
             },
             "line": {
              "color": "white"
             }
            },
            "type": "table"
           }
          ]
         },
         "layout": {
          "annotationdefaults": {
           "arrowcolor": "#2a3f5f",
           "arrowhead": 0,
           "arrowwidth": 1
          },
          "autotypenumbers": "strict",
          "coloraxis": {
           "colorbar": {
            "outlinewidth": 0,
            "ticks": ""
           }
          },
          "colorscale": {
           "diverging": [
            [
             0,
             "#8e0152"
            ],
            [
             0.1,
             "#c51b7d"
            ],
            [
             0.2,
             "#de77ae"
            ],
            [
             0.3,
             "#f1b6da"
            ],
            [
             0.4,
             "#fde0ef"
            ],
            [
             0.5,
             "#f7f7f7"
            ],
            [
             0.6,
             "#e6f5d0"
            ],
            [
             0.7,
             "#b8e186"
            ],
            [
             0.8,
             "#7fbc41"
            ],
            [
             0.9,
             "#4d9221"
            ],
            [
             1,
             "#276419"
            ]
           ],
           "sequential": [
            [
             0,
             "#0d0887"
            ],
            [
             0.1111111111111111,
             "#46039f"
            ],
            [
             0.2222222222222222,
             "#7201a8"
            ],
            [
             0.3333333333333333,
             "#9c179e"
            ],
            [
             0.4444444444444444,
             "#bd3786"
            ],
            [
             0.5555555555555556,
             "#d8576b"
            ],
            [
             0.6666666666666666,
             "#ed7953"
            ],
            [
             0.7777777777777778,
             "#fb9f3a"
            ],
            [
             0.8888888888888888,
             "#fdca26"
            ],
            [
             1,
             "#f0f921"
            ]
           ],
           "sequentialminus": [
            [
             0,
             "#0d0887"
            ],
            [
             0.1111111111111111,
             "#46039f"
            ],
            [
             0.2222222222222222,
             "#7201a8"
            ],
            [
             0.3333333333333333,
             "#9c179e"
            ],
            [
             0.4444444444444444,
             "#bd3786"
            ],
            [
             0.5555555555555556,
             "#d8576b"
            ],
            [
             0.6666666666666666,
             "#ed7953"
            ],
            [
             0.7777777777777778,
             "#fb9f3a"
            ],
            [
             0.8888888888888888,
             "#fdca26"
            ],
            [
             1,
             "#f0f921"
            ]
           ]
          },
          "colorway": [
           "#636efa",
           "#EF553B",
           "#00cc96",
           "#ab63fa",
           "#FFA15A",
           "#19d3f3",
           "#FF6692",
           "#B6E880",
           "#FF97FF",
           "#FECB52"
          ],
          "font": {
           "color": "#2a3f5f"
          },
          "geo": {
           "bgcolor": "white",
           "lakecolor": "white",
           "landcolor": "#E5ECF6",
           "showlakes": true,
           "showland": true,
           "subunitcolor": "white"
          },
          "hoverlabel": {
           "align": "left"
          },
          "hovermode": "closest",
          "mapbox": {
           "style": "light"
          },
          "paper_bgcolor": "white",
          "plot_bgcolor": "#E5ECF6",
          "polar": {
           "angularaxis": {
            "gridcolor": "white",
            "linecolor": "white",
            "ticks": ""
           },
           "bgcolor": "#E5ECF6",
           "radialaxis": {
            "gridcolor": "white",
            "linecolor": "white",
            "ticks": ""
           }
          },
          "scene": {
           "xaxis": {
            "backgroundcolor": "#E5ECF6",
            "gridcolor": "white",
            "gridwidth": 2,
            "linecolor": "white",
            "showbackground": true,
            "ticks": "",
            "zerolinecolor": "white"
           },
           "yaxis": {
            "backgroundcolor": "#E5ECF6",
            "gridcolor": "white",
            "gridwidth": 2,
            "linecolor": "white",
            "showbackground": true,
            "ticks": "",
            "zerolinecolor": "white"
           },
           "zaxis": {
            "backgroundcolor": "#E5ECF6",
            "gridcolor": "white",
            "gridwidth": 2,
            "linecolor": "white",
            "showbackground": true,
            "ticks": "",
            "zerolinecolor": "white"
           }
          },
          "shapedefaults": {
           "line": {
            "color": "#2a3f5f"
           }
          },
          "ternary": {
           "aaxis": {
            "gridcolor": "white",
            "linecolor": "white",
            "ticks": ""
           },
           "baxis": {
            "gridcolor": "white",
            "linecolor": "white",
            "ticks": ""
           },
           "bgcolor": "#E5ECF6",
           "caxis": {
            "gridcolor": "white",
            "linecolor": "white",
            "ticks": ""
           }
          },
          "title": {
           "x": 0.05
          },
          "xaxis": {
           "automargin": true,
           "gridcolor": "white",
           "linecolor": "white",
           "ticks": "",
           "title": {
            "standoff": 15
           },
           "zerolinecolor": "white",
           "zerolinewidth": 2
          },
          "yaxis": {
           "automargin": true,
           "gridcolor": "white",
           "linecolor": "white",
           "ticks": "",
           "title": {
            "standoff": 15
           },
           "zerolinecolor": "white",
           "zerolinewidth": 2
          }
         }
        },
        "xaxis": {
         "anchor": "y",
         "domain": [
          0,
          1
         ],
         "title": {
          "text": "time"
         }
        },
        "yaxis": {
         "anchor": "x",
         "domain": [
          0,
          1
         ],
         "title": {
          "text": "sum of quantity"
         }
        }
       }
      }
     },
     "metadata": {},
     "output_type": "display_data"
    }
   ],
   "source": [
    "busy_time_graph= px.histogram(data.sort_values(\"branch\"), x='time', y='quantity' ,color='branch', barmode='group')\n",
    "busy_time_graph.show()"
   ]
  },
  {
   "cell_type": "markdown",
   "metadata": {},
   "source": [
    "It's hard for us to see from histogram. We need to calculate the total of quantity that bought in time"
   ]
  },
  {
   "cell_type": "code",
   "execution_count": 211,
   "metadata": {},
   "outputs": [],
   "source": [
    "total_Q = data.groupby(['branch','time'])['quantity'].sum()\n",
    "total_Q= total_Q.groupby(\"time\").mean().reset_index()\n",
    "total_Q_sorted=total_Q.sort_values('quantity',ascending=False)"
   ]
  },
  {
   "cell_type": "markdown",
   "metadata": {},
   "source": [
    "Let's revisualize it"
   ]
  },
  {
   "cell_type": "code",
   "execution_count": 177,
   "metadata": {},
   "outputs": [
    {
     "data": {
      "application/vnd.plotly.v1+json": {
       "config": {
        "plotlyServerURL": "https://plot.ly"
       },
       "data": [
        {
         "alignmentgroup": "True",
         "bingroup": "x",
         "histfunc": "sum",
         "hovertemplate": "branch=A<br>time=%{x}<br>sum of quantity=%{y}<extra></extra>",
         "legendgroup": "A",
         "marker": {
          "color": "#636efa",
          "pattern": {
           "shape": ""
          }
         },
         "name": "A",
         "offsetgroup": "A",
         "orientation": "v",
         "showlegend": true,
         "type": "histogram",
         "x": [
          13,
          19,
          19,
          16,
          14,
          13,
          18,
          12,
          18,
          17,
          20,
          15,
          18,
          18,
          18,
          13,
          16,
          20,
          17,
          18,
          11,
          15,
          13,
          15,
          12,
          10,
          15,
          15,
          19,
          11,
          10,
          13,
          17,
          11,
          12,
          11,
          10,
          12,
          12,
          14,
          13,
          11,
          14,
          12,
          16,
          14,
          11,
          13,
          13,
          14,
          19,
          13,
          13,
          15,
          16,
          15,
          18,
          10,
          12,
          16,
          11,
          19,
          15,
          18,
          19,
          13,
          18,
          13,
          10,
          17,
          10,
          17,
          13,
          20,
          17,
          15,
          14,
          10,
          12,
          20,
          14,
          15,
          11,
          17,
          19,
          15,
          11,
          13,
          16,
          12,
          11,
          13,
          12,
          14,
          10,
          19,
          17,
          18,
          13,
          19,
          19,
          15,
          14,
          20,
          10,
          12,
          18,
          16,
          13,
          10,
          13,
          12,
          12,
          10,
          17,
          11,
          18,
          17,
          12,
          16,
          15,
          15,
          10,
          11,
          15,
          16,
          19,
          12,
          14,
          13,
          19,
          10,
          13,
          12,
          16,
          11,
          17,
          10,
          13,
          14,
          18,
          12,
          19,
          18,
          10,
          11,
          13,
          18,
          11,
          12,
          16,
          15,
          13,
          19,
          14,
          17,
          14,
          14,
          18,
          19,
          17,
          13,
          20,
          19,
          14,
          17,
          10,
          15,
          18,
          12,
          15,
          15,
          18,
          15,
          20,
          11,
          20,
          14,
          19,
          18,
          16,
          10,
          11,
          17,
          12,
          18,
          10,
          10,
          16,
          11,
          18,
          10,
          10,
          12,
          16,
          18,
          20,
          17,
          19,
          20,
          19,
          12,
          10,
          17,
          12,
          13,
          13,
          18,
          19,
          15,
          17,
          15,
          10,
          14,
          17,
          18,
          20,
          10,
          16,
          14,
          18,
          10,
          16,
          19,
          11,
          20,
          10,
          14,
          18,
          17,
          18,
          16,
          11,
          15,
          12,
          12,
          20,
          15,
          16,
          14,
          16,
          17,
          15,
          11,
          17,
          15,
          18,
          11,
          13,
          12,
          10,
          15,
          14,
          11,
          10,
          10,
          15,
          11,
          14,
          20,
          20,
          20,
          17,
          18,
          20,
          20,
          15,
          19,
          16,
          12,
          13,
          11,
          15,
          16,
          19,
          20,
          12,
          10,
          11,
          12,
          11,
          16,
          10,
          17,
          16,
          11,
          15,
          16,
          16,
          19,
          15,
          10,
          16,
          13,
          20,
          10,
          14,
          17,
          10,
          16,
          19,
          11,
          10,
          18,
          11,
          17,
          19,
          12,
          15,
          10,
          16,
          20,
          15,
          10,
          18,
          10,
          20,
          16,
          15,
          11,
          11,
          15,
          17,
          19,
          12,
          16,
          13,
          13,
          16,
          11,
          18,
          12,
          14,
          11,
          16,
          11,
          14,
          15,
          18,
          12
         ],
         "xaxis": "x",
         "y": [
          7,
          6,
          9,
          5,
          6,
          6,
          2,
          7,
          7,
          5,
          8,
          1,
          10,
          4,
          8,
          5,
          5,
          3,
          5,
          10,
          4,
          5,
          4,
          1,
          5,
          7,
          9,
          6,
          6,
          1,
          10,
          5,
          4,
          6,
          9,
          10,
          1,
          1,
          7,
          2,
          3,
          3,
          1,
          5,
          5,
          3,
          1,
          4,
          4,
          5,
          7,
          9,
          10,
          6,
          3,
          6,
          7,
          6,
          9,
          10,
          3,
          4,
          3,
          7,
          8,
          5,
          6,
          9,
          5,
          2,
          3,
          8,
          7,
          7,
          4,
          4,
          6,
          2,
          6,
          1,
          4,
          6,
          1,
          8,
          10,
          2,
          9,
          10,
          4,
          7,
          10,
          9,
          4,
          7,
          7,
          5,
          3,
          3,
          5,
          4,
          5,
          4,
          5,
          5,
          1,
          10,
          1,
          10,
          5,
          4,
          4,
          5,
          9,
          4,
          6,
          8,
          7,
          7,
          1,
          9,
          3,
          9,
          5,
          2,
          5,
          5,
          1,
          2,
          3,
          10,
          1,
          7,
          2,
          6,
          8,
          4,
          6,
          7,
          4,
          3,
          2,
          9,
          10,
          4,
          2,
          1,
          6,
          1,
          3,
          1,
          2,
          3,
          5,
          1,
          1,
          8,
          10,
          5,
          3,
          9,
          7,
          1,
          2,
          5,
          9,
          4,
          4,
          3,
          3,
          3,
          9,
          1,
          2,
          9,
          5,
          7,
          7,
          5,
          10,
          4,
          3,
          5,
          10,
          9,
          4,
          3,
          8,
          8,
          2,
          7,
          4,
          3,
          2,
          3,
          7,
          5,
          6,
          3,
          9,
          4,
          5,
          10,
          3,
          10,
          2,
          6,
          3,
          4,
          10,
          4,
          1,
          5,
          3,
          3,
          10,
          9,
          7,
          2,
          3,
          10,
          1,
          10,
          4,
          3,
          1,
          8,
          8,
          1,
          10,
          4,
          2,
          4,
          9,
          10,
          2,
          7,
          1,
          7,
          7,
          1,
          4,
          6,
          4,
          5,
          8,
          4,
          10,
          6,
          8,
          10,
          5,
          2,
          2,
          9,
          6,
          1,
          8,
          8,
          10,
          6,
          9,
          10,
          8,
          7,
          6,
          5,
          6,
          8,
          6,
          10,
          8,
          9,
          5,
          1,
          7,
          9,
          9,
          1,
          5,
          1,
          7,
          6,
          10,
          8,
          9,
          5,
          7,
          6,
          10,
          6,
          1,
          3,
          7,
          7,
          8,
          7,
          6,
          2,
          5,
          10,
          10,
          7,
          6,
          3,
          5,
          3,
          8,
          2,
          9,
          2,
          1,
          7,
          9,
          9,
          1,
          10,
          1,
          10,
          10,
          8,
          2,
          5,
          9,
          5,
          10,
          3,
          5,
          7,
          4,
          4,
          10,
          2,
          5,
          1,
          9,
          4,
          8,
          2,
          2,
          8
         ],
         "yaxis": "y"
        },
        {
         "alignmentgroup": "True",
         "bingroup": "x",
         "histfunc": "sum",
         "hovertemplate": "branch=B<br>time=%{x}<br>sum of quantity=%{y}<extra></extra>",
         "legendgroup": "B",
         "marker": {
          "color": "#EF553B",
          "pattern": {
           "shape": ""
          }
         },
         "name": "B",
         "offsetgroup": "B",
         "orientation": "v",
         "showlegend": true,
         "type": "histogram",
         "x": [
          11,
          14,
          14,
          17,
          16,
          11,
          13,
          12,
          15,
          13,
          11,
          11,
          18,
          19,
          13,
          15,
          18,
          13,
          12,
          11,
          15,
          11,
          11,
          15,
          13,
          15,
          16,
          14,
          10,
          19,
          19,
          18,
          17,
          14,
          13,
          14,
          10,
          18,
          11,
          11,
          14,
          12,
          10,
          19,
          13,
          20,
          12,
          15,
          13,
          14,
          19,
          11,
          20,
          15,
          17,
          19,
          13,
          19,
          11,
          14,
          20,
          17,
          14,
          20,
          10,
          10,
          15,
          18,
          19,
          12,
          19,
          11,
          17,
          15,
          20,
          10,
          13,
          19,
          13,
          20,
          12,
          18,
          19,
          13,
          16,
          15,
          15,
          14,
          20,
          10,
          17,
          10,
          10,
          18,
          17,
          11,
          18,
          13,
          20,
          15,
          10,
          18,
          14,
          15,
          16,
          20,
          20,
          14,
          20,
          16,
          18,
          12,
          18,
          20,
          11,
          19,
          18,
          13,
          19,
          15,
          10,
          12,
          15,
          15,
          17,
          11,
          13,
          19,
          19,
          18,
          16,
          10,
          13,
          17,
          11,
          19,
          10,
          11,
          20,
          13,
          18,
          20,
          11,
          12,
          15,
          18,
          15,
          20,
          11,
          18,
          17,
          11,
          19,
          15,
          15,
          18,
          16,
          13,
          16,
          14,
          16,
          19,
          18,
          19,
          14,
          11,
          13,
          11,
          18,
          13,
          12,
          19,
          10,
          19,
          11,
          18,
          19,
          19,
          12,
          11,
          14,
          12,
          18,
          15,
          14,
          13,
          15,
          19,
          19,
          10,
          17,
          14,
          16,
          13,
          10,
          18,
          18,
          11,
          13,
          14,
          14,
          19,
          20,
          16,
          11,
          17,
          10,
          19,
          15,
          19,
          20,
          16,
          18,
          14,
          20,
          14,
          19,
          17,
          13,
          13,
          13,
          19,
          14,
          12,
          12,
          13,
          10,
          19,
          12,
          11,
          19,
          13,
          11,
          15,
          18,
          18,
          19,
          18,
          20,
          14,
          19,
          15,
          13,
          12,
          18,
          13,
          13,
          17,
          18,
          10,
          18,
          19,
          15,
          19,
          13,
          13,
          15,
          12,
          13,
          11,
          19,
          15,
          13,
          12,
          18,
          19,
          19,
          19,
          19,
          19,
          14,
          19,
          16,
          15,
          20,
          17,
          13,
          10,
          11,
          20,
          17,
          19,
          13,
          12,
          15,
          15,
          16,
          18,
          10,
          11,
          12,
          10,
          17,
          11,
          17,
          14,
          18,
          20,
          17,
          10,
          14,
          12,
          16,
          19,
          19,
          10,
          18,
          14,
          10,
          12,
          12,
          16,
          17,
          14,
          15,
          19,
          10,
          20,
          14,
          11,
          13,
          19,
          19,
          19,
          20,
          14,
          20,
          12,
          16,
          18,
          12,
          20
         ],
         "xaxis": "x",
         "y": [
          7,
          8,
          8,
          9,
          1,
          3,
          3,
          10,
          7,
          6,
          3,
          10,
          1,
          3,
          8,
          3,
          4,
          6,
          6,
          9,
          4,
          10,
          9,
          9,
          7,
          1,
          2,
          10,
          9,
          6,
          8,
          4,
          9,
          4,
          6,
          6,
          2,
          4,
          10,
          3,
          10,
          2,
          9,
          1,
          4,
          1,
          4,
          8,
          5,
          9,
          6,
          1,
          5,
          6,
          8,
          10,
          3,
          2,
          10,
          2,
          4,
          5,
          8,
          3,
          9,
          8,
          10,
          4,
          7,
          8,
          2,
          10,
          5,
          10,
          1,
          7,
          2,
          4,
          8,
          7,
          9,
          4,
          2,
          3,
          6,
          8,
          5,
          4,
          3,
          7,
          10,
          10,
          7,
          3,
          10,
          9,
          4,
          3,
          7,
          6,
          1,
          6,
          8,
          6,
          8,
          4,
          4,
          7,
          1,
          6,
          8,
          9,
          5,
          9,
          4,
          3,
          4,
          6,
          8,
          10,
          10,
          9,
          8,
          5,
          6,
          4,
          10,
          9,
          10,
          5,
          2,
          1,
          7,
          3,
          9,
          3,
          2,
          7,
          4,
          3,
          6,
          6,
          3,
          5,
          1,
          4,
          9,
          2,
          6,
          5,
          1,
          2,
          1,
          10,
          2,
          8,
          2,
          3,
          8,
          5,
          4,
          4,
          7,
          5,
          4,
          7,
          9,
          10,
          10,
          9,
          2,
          6,
          1,
          1,
          2,
          4,
          7,
          2,
          7,
          2,
          8,
          9,
          3,
          9,
          2,
          10,
          6,
          4,
          1,
          5,
          4,
          2,
          9,
          6,
          9,
          2,
          4,
          4,
          3,
          10,
          10,
          4,
          4,
          1,
          6,
          2,
          4,
          8,
          2,
          7,
          10,
          6,
          1,
          7,
          1,
          7,
          2,
          5,
          3,
          2,
          9,
          8,
          8,
          3,
          9,
          4,
          3,
          5,
          5,
          10,
          7,
          3,
          10,
          7,
          10,
          5,
          4,
          10,
          7,
          9,
          7,
          9,
          6,
          8,
          3,
          6,
          7,
          10,
          9,
          4,
          3,
          8,
          8,
          8,
          1,
          7,
          7,
          5,
          4,
          2,
          9,
          6,
          3,
          4,
          1,
          2,
          7,
          9,
          9,
          5,
          2,
          5,
          1,
          3,
          1,
          1,
          1,
          3,
          2,
          8,
          6,
          2,
          9,
          8,
          4,
          1,
          10,
          5,
          10,
          3,
          3,
          6,
          8,
          4,
          1,
          8,
          6,
          3,
          1,
          3,
          6,
          4,
          5,
          5,
          3,
          6,
          7,
          5,
          6,
          3,
          5,
          1,
          2,
          5,
          1,
          5,
          10,
          9,
          10,
          1,
          6,
          2,
          3,
          6,
          10,
          9,
          1,
          10,
          5,
          6,
          2,
          6
         ],
         "yaxis": "y"
        },
        {
         "alignmentgroup": "True",
         "bingroup": "x",
         "histfunc": "sum",
         "hovertemplate": "branch=C<br>time=%{x}<br>sum of quantity=%{y}<extra></extra>",
         "legendgroup": "C",
         "marker": {
          "color": "#00cc96",
          "pattern": {
           "shape": ""
          }
         },
         "name": "C",
         "offsetgroup": "C",
         "orientation": "v",
         "showlegend": true,
         "type": "histogram",
         "x": [
          14,
          15,
          19,
          18,
          16,
          13,
          18,
          18,
          19,
          10,
          13,
          13,
          20,
          19,
          10,
          16,
          19,
          12,
          20,
          17,
          13,
          17,
          15,
          10,
          10,
          19,
          14,
          18,
          17,
          14,
          17,
          13,
          13,
          16,
          11,
          16,
          10,
          10,
          14,
          10,
          11,
          14,
          12,
          20,
          17,
          17,
          19,
          11,
          18,
          19,
          10,
          12,
          12,
          18,
          17,
          14,
          15,
          20,
          13,
          12,
          13,
          10,
          20,
          13,
          10,
          19,
          15,
          19,
          17,
          12,
          16,
          14,
          11,
          15,
          17,
          15,
          10,
          12,
          19,
          10,
          17,
          12,
          18,
          12,
          12,
          15,
          15,
          11,
          11,
          10,
          17,
          12,
          18,
          14,
          13,
          12,
          17,
          11,
          11,
          15,
          18,
          17,
          14,
          13,
          19,
          13,
          16,
          16,
          10,
          10,
          16,
          10,
          11,
          12,
          11,
          10,
          13,
          11,
          11,
          18,
          10,
          15,
          16,
          13,
          15,
          18,
          17,
          11,
          14,
          19,
          14,
          16,
          17,
          20,
          12,
          10,
          18,
          11,
          19,
          10,
          19,
          11,
          13,
          11,
          15,
          20,
          20,
          15,
          19,
          17,
          19,
          12,
          19,
          11,
          15,
          13,
          20,
          19,
          20,
          19,
          16,
          16,
          19,
          18,
          17,
          18,
          17,
          12,
          17,
          14,
          19,
          12,
          16,
          18,
          14,
          20,
          13,
          20,
          15,
          14,
          10,
          14,
          16,
          12,
          13,
          18,
          12,
          15,
          16,
          15,
          13,
          20,
          16,
          15,
          13,
          13,
          13,
          19,
          10,
          13,
          20,
          19,
          16,
          19,
          15,
          19,
          17,
          13,
          20,
          20,
          19,
          10,
          10,
          12,
          14,
          18,
          18,
          13,
          18,
          13,
          17,
          19,
          10,
          12,
          15,
          15,
          13,
          11,
          20,
          20,
          12,
          16,
          14,
          13,
          20,
          19,
          13,
          12,
          10,
          14,
          13,
          14,
          15,
          20,
          14,
          11,
          10,
          16,
          19,
          20,
          18,
          18,
          10,
          14,
          10,
          12,
          18,
          10,
          10,
          14,
          16,
          16,
          19,
          15,
          12,
          14,
          15,
          12,
          20,
          15,
          20,
          17,
          13,
          14,
          20,
          10,
          17,
          18,
          18,
          19,
          15,
          17,
          10,
          13,
          11,
          20,
          13,
          10,
          15,
          12,
          17,
          14,
          12,
          16,
          16,
          15,
          16,
          20,
          19,
          10,
          19,
          16,
          20,
          11,
          12,
          13,
          10,
          14,
          16,
          15,
          14,
          17,
          15,
          19,
          19,
          12,
          12,
          19,
          15,
          16,
          15,
          17,
          18,
          10,
          16,
          11,
          15,
          14
         ],
         "xaxis": "x",
         "y": [
          2,
          10,
          2,
          6,
          5,
          4,
          5,
          10,
          8,
          5,
          1,
          7,
          3,
          10,
          7,
          10,
          9,
          10,
          8,
          10,
          1,
          4,
          7,
          6,
          5,
          8,
          6,
          5,
          6,
          9,
          8,
          1,
          5,
          10,
          8,
          7,
          5,
          3,
          1,
          9,
          1,
          9,
          2,
          4,
          4,
          10,
          7,
          7,
          7,
          2,
          6,
          7,
          8,
          10,
          3,
          2,
          9,
          6,
          4,
          2,
          8,
          7,
          3,
          6,
          2,
          10,
          1,
          8,
          1,
          10,
          10,
          8,
          6,
          1,
          9,
          1,
          7,
          6,
          3,
          10,
          5,
          4,
          2,
          5,
          8,
          2,
          3,
          7,
          4,
          4,
          1,
          1,
          5,
          4,
          4,
          2,
          2,
          10,
          5,
          1,
          2,
          10,
          1,
          1,
          2,
          7,
          4,
          2,
          7,
          3,
          3,
          7,
          8,
          6,
          1,
          1,
          7,
          10,
          5,
          1,
          4,
          5,
          1,
          10,
          8,
          7,
          3,
          10,
          1,
          5,
          8,
          4,
          2,
          8,
          10,
          1,
          6,
          7,
          8,
          9,
          2,
          2,
          10,
          6,
          5,
          5,
          4,
          1,
          2,
          6,
          2,
          1,
          8,
          6,
          2,
          10,
          1,
          10,
          10,
          7,
          4,
          4,
          9,
          9,
          4,
          7,
          10,
          6,
          6,
          10,
          9,
          4,
          4,
          9,
          2,
          2,
          10,
          10,
          1,
          10,
          8,
          2,
          5,
          3,
          5,
          5,
          1,
          8,
          6,
          4,
          6,
          4,
          2,
          1,
          10,
          3,
          3,
          9,
          1,
          4,
          9,
          1,
          4,
          5,
          1,
          4,
          7,
          1,
          4,
          6,
          5,
          6,
          7,
          3,
          9,
          2,
          7,
          8,
          6,
          6,
          7,
          1,
          8,
          9,
          9,
          4,
          9,
          9,
          8,
          1,
          8,
          10,
          9,
          7,
          6,
          7,
          9,
          2,
          9,
          10,
          6,
          10,
          9,
          7,
          8,
          3,
          1,
          7,
          7,
          3,
          8,
          4,
          5,
          7,
          5,
          9,
          3,
          3,
          4,
          5,
          1,
          8,
          10,
          1,
          7,
          10,
          7,
          10,
          1,
          4,
          7,
          8,
          5,
          6,
          10,
          1,
          1,
          2,
          5,
          9,
          1,
          7,
          6,
          10,
          10,
          7,
          10,
          1,
          2,
          3,
          6,
          4,
          4,
          7,
          10,
          10,
          7,
          10,
          10,
          6,
          3,
          6,
          9,
          2,
          7,
          3,
          1,
          4,
          10,
          2,
          6,
          5,
          5,
          4,
          8,
          1,
          7,
          8,
          5,
          9,
          8,
          6,
          5,
          1,
          1,
          9,
          8,
          10
         ],
         "yaxis": "y"
        },
        {
         "line": {
          "color": "black",
          "dash": "dash"
         },
         "name": "Quantity",
         "type": "scatter",
         "x": [
          10,
          11,
          12,
          13,
          14,
          15,
          16,
          17,
          18,
          19,
          20
         ],
         "y": [
          175,
          171,
          167,
          195,
          165,
          176.66666666666666,
          140,
          138.33333333333334,
          158.33333333333334,
          216.33333333333334,
          134
         ]
        }
       ],
       "layout": {
        "barmode": "group",
        "legend": {
         "title": {
          "text": "branch"
         },
         "tracegroupgap": 0
        },
        "margin": {
         "t": 60
        },
        "template": {
         "data": {
          "bar": [
           {
            "error_x": {
             "color": "#2a3f5f"
            },
            "error_y": {
             "color": "#2a3f5f"
            },
            "marker": {
             "line": {
              "color": "#E5ECF6",
              "width": 0.5
             },
             "pattern": {
              "fillmode": "overlay",
              "size": 10,
              "solidity": 0.2
             }
            },
            "type": "bar"
           }
          ],
          "barpolar": [
           {
            "marker": {
             "line": {
              "color": "#E5ECF6",
              "width": 0.5
             },
             "pattern": {
              "fillmode": "overlay",
              "size": 10,
              "solidity": 0.2
             }
            },
            "type": "barpolar"
           }
          ],
          "carpet": [
           {
            "aaxis": {
             "endlinecolor": "#2a3f5f",
             "gridcolor": "white",
             "linecolor": "white",
             "minorgridcolor": "white",
             "startlinecolor": "#2a3f5f"
            },
            "baxis": {
             "endlinecolor": "#2a3f5f",
             "gridcolor": "white",
             "linecolor": "white",
             "minorgridcolor": "white",
             "startlinecolor": "#2a3f5f"
            },
            "type": "carpet"
           }
          ],
          "choropleth": [
           {
            "colorbar": {
             "outlinewidth": 0,
             "ticks": ""
            },
            "type": "choropleth"
           }
          ],
          "contour": [
           {
            "colorbar": {
             "outlinewidth": 0,
             "ticks": ""
            },
            "colorscale": [
             [
              0,
              "#0d0887"
             ],
             [
              0.1111111111111111,
              "#46039f"
             ],
             [
              0.2222222222222222,
              "#7201a8"
             ],
             [
              0.3333333333333333,
              "#9c179e"
             ],
             [
              0.4444444444444444,
              "#bd3786"
             ],
             [
              0.5555555555555556,
              "#d8576b"
             ],
             [
              0.6666666666666666,
              "#ed7953"
             ],
             [
              0.7777777777777778,
              "#fb9f3a"
             ],
             [
              0.8888888888888888,
              "#fdca26"
             ],
             [
              1,
              "#f0f921"
             ]
            ],
            "type": "contour"
           }
          ],
          "contourcarpet": [
           {
            "colorbar": {
             "outlinewidth": 0,
             "ticks": ""
            },
            "type": "contourcarpet"
           }
          ],
          "heatmap": [
           {
            "colorbar": {
             "outlinewidth": 0,
             "ticks": ""
            },
            "colorscale": [
             [
              0,
              "#0d0887"
             ],
             [
              0.1111111111111111,
              "#46039f"
             ],
             [
              0.2222222222222222,
              "#7201a8"
             ],
             [
              0.3333333333333333,
              "#9c179e"
             ],
             [
              0.4444444444444444,
              "#bd3786"
             ],
             [
              0.5555555555555556,
              "#d8576b"
             ],
             [
              0.6666666666666666,
              "#ed7953"
             ],
             [
              0.7777777777777778,
              "#fb9f3a"
             ],
             [
              0.8888888888888888,
              "#fdca26"
             ],
             [
              1,
              "#f0f921"
             ]
            ],
            "type": "heatmap"
           }
          ],
          "heatmapgl": [
           {
            "colorbar": {
             "outlinewidth": 0,
             "ticks": ""
            },
            "colorscale": [
             [
              0,
              "#0d0887"
             ],
             [
              0.1111111111111111,
              "#46039f"
             ],
             [
              0.2222222222222222,
              "#7201a8"
             ],
             [
              0.3333333333333333,
              "#9c179e"
             ],
             [
              0.4444444444444444,
              "#bd3786"
             ],
             [
              0.5555555555555556,
              "#d8576b"
             ],
             [
              0.6666666666666666,
              "#ed7953"
             ],
             [
              0.7777777777777778,
              "#fb9f3a"
             ],
             [
              0.8888888888888888,
              "#fdca26"
             ],
             [
              1,
              "#f0f921"
             ]
            ],
            "type": "heatmapgl"
           }
          ],
          "histogram": [
           {
            "marker": {
             "pattern": {
              "fillmode": "overlay",
              "size": 10,
              "solidity": 0.2
             }
            },
            "type": "histogram"
           }
          ],
          "histogram2d": [
           {
            "colorbar": {
             "outlinewidth": 0,
             "ticks": ""
            },
            "colorscale": [
             [
              0,
              "#0d0887"
             ],
             [
              0.1111111111111111,
              "#46039f"
             ],
             [
              0.2222222222222222,
              "#7201a8"
             ],
             [
              0.3333333333333333,
              "#9c179e"
             ],
             [
              0.4444444444444444,
              "#bd3786"
             ],
             [
              0.5555555555555556,
              "#d8576b"
             ],
             [
              0.6666666666666666,
              "#ed7953"
             ],
             [
              0.7777777777777778,
              "#fb9f3a"
             ],
             [
              0.8888888888888888,
              "#fdca26"
             ],
             [
              1,
              "#f0f921"
             ]
            ],
            "type": "histogram2d"
           }
          ],
          "histogram2dcontour": [
           {
            "colorbar": {
             "outlinewidth": 0,
             "ticks": ""
            },
            "colorscale": [
             [
              0,
              "#0d0887"
             ],
             [
              0.1111111111111111,
              "#46039f"
             ],
             [
              0.2222222222222222,
              "#7201a8"
             ],
             [
              0.3333333333333333,
              "#9c179e"
             ],
             [
              0.4444444444444444,
              "#bd3786"
             ],
             [
              0.5555555555555556,
              "#d8576b"
             ],
             [
              0.6666666666666666,
              "#ed7953"
             ],
             [
              0.7777777777777778,
              "#fb9f3a"
             ],
             [
              0.8888888888888888,
              "#fdca26"
             ],
             [
              1,
              "#f0f921"
             ]
            ],
            "type": "histogram2dcontour"
           }
          ],
          "mesh3d": [
           {
            "colorbar": {
             "outlinewidth": 0,
             "ticks": ""
            },
            "type": "mesh3d"
           }
          ],
          "parcoords": [
           {
            "line": {
             "colorbar": {
              "outlinewidth": 0,
              "ticks": ""
             }
            },
            "type": "parcoords"
           }
          ],
          "pie": [
           {
            "automargin": true,
            "type": "pie"
           }
          ],
          "scatter": [
           {
            "marker": {
             "colorbar": {
              "outlinewidth": 0,
              "ticks": ""
             }
            },
            "type": "scatter"
           }
          ],
          "scatter3d": [
           {
            "line": {
             "colorbar": {
              "outlinewidth": 0,
              "ticks": ""
             }
            },
            "marker": {
             "colorbar": {
              "outlinewidth": 0,
              "ticks": ""
             }
            },
            "type": "scatter3d"
           }
          ],
          "scattercarpet": [
           {
            "marker": {
             "colorbar": {
              "outlinewidth": 0,
              "ticks": ""
             }
            },
            "type": "scattercarpet"
           }
          ],
          "scattergeo": [
           {
            "marker": {
             "colorbar": {
              "outlinewidth": 0,
              "ticks": ""
             }
            },
            "type": "scattergeo"
           }
          ],
          "scattergl": [
           {
            "marker": {
             "colorbar": {
              "outlinewidth": 0,
              "ticks": ""
             }
            },
            "type": "scattergl"
           }
          ],
          "scattermapbox": [
           {
            "marker": {
             "colorbar": {
              "outlinewidth": 0,
              "ticks": ""
             }
            },
            "type": "scattermapbox"
           }
          ],
          "scatterpolar": [
           {
            "marker": {
             "colorbar": {
              "outlinewidth": 0,
              "ticks": ""
             }
            },
            "type": "scatterpolar"
           }
          ],
          "scatterpolargl": [
           {
            "marker": {
             "colorbar": {
              "outlinewidth": 0,
              "ticks": ""
             }
            },
            "type": "scatterpolargl"
           }
          ],
          "scatterternary": [
           {
            "marker": {
             "colorbar": {
              "outlinewidth": 0,
              "ticks": ""
             }
            },
            "type": "scatterternary"
           }
          ],
          "surface": [
           {
            "colorbar": {
             "outlinewidth": 0,
             "ticks": ""
            },
            "colorscale": [
             [
              0,
              "#0d0887"
             ],
             [
              0.1111111111111111,
              "#46039f"
             ],
             [
              0.2222222222222222,
              "#7201a8"
             ],
             [
              0.3333333333333333,
              "#9c179e"
             ],
             [
              0.4444444444444444,
              "#bd3786"
             ],
             [
              0.5555555555555556,
              "#d8576b"
             ],
             [
              0.6666666666666666,
              "#ed7953"
             ],
             [
              0.7777777777777778,
              "#fb9f3a"
             ],
             [
              0.8888888888888888,
              "#fdca26"
             ],
             [
              1,
              "#f0f921"
             ]
            ],
            "type": "surface"
           }
          ],
          "table": [
           {
            "cells": {
             "fill": {
              "color": "#EBF0F8"
             },
             "line": {
              "color": "white"
             }
            },
            "header": {
             "fill": {
              "color": "#C8D4E3"
             },
             "line": {
              "color": "white"
             }
            },
            "type": "table"
           }
          ]
         },
         "layout": {
          "annotationdefaults": {
           "arrowcolor": "#2a3f5f",
           "arrowhead": 0,
           "arrowwidth": 1
          },
          "autotypenumbers": "strict",
          "coloraxis": {
           "colorbar": {
            "outlinewidth": 0,
            "ticks": ""
           }
          },
          "colorscale": {
           "diverging": [
            [
             0,
             "#8e0152"
            ],
            [
             0.1,
             "#c51b7d"
            ],
            [
             0.2,
             "#de77ae"
            ],
            [
             0.3,
             "#f1b6da"
            ],
            [
             0.4,
             "#fde0ef"
            ],
            [
             0.5,
             "#f7f7f7"
            ],
            [
             0.6,
             "#e6f5d0"
            ],
            [
             0.7,
             "#b8e186"
            ],
            [
             0.8,
             "#7fbc41"
            ],
            [
             0.9,
             "#4d9221"
            ],
            [
             1,
             "#276419"
            ]
           ],
           "sequential": [
            [
             0,
             "#0d0887"
            ],
            [
             0.1111111111111111,
             "#46039f"
            ],
            [
             0.2222222222222222,
             "#7201a8"
            ],
            [
             0.3333333333333333,
             "#9c179e"
            ],
            [
             0.4444444444444444,
             "#bd3786"
            ],
            [
             0.5555555555555556,
             "#d8576b"
            ],
            [
             0.6666666666666666,
             "#ed7953"
            ],
            [
             0.7777777777777778,
             "#fb9f3a"
            ],
            [
             0.8888888888888888,
             "#fdca26"
            ],
            [
             1,
             "#f0f921"
            ]
           ],
           "sequentialminus": [
            [
             0,
             "#0d0887"
            ],
            [
             0.1111111111111111,
             "#46039f"
            ],
            [
             0.2222222222222222,
             "#7201a8"
            ],
            [
             0.3333333333333333,
             "#9c179e"
            ],
            [
             0.4444444444444444,
             "#bd3786"
            ],
            [
             0.5555555555555556,
             "#d8576b"
            ],
            [
             0.6666666666666666,
             "#ed7953"
            ],
            [
             0.7777777777777778,
             "#fb9f3a"
            ],
            [
             0.8888888888888888,
             "#fdca26"
            ],
            [
             1,
             "#f0f921"
            ]
           ]
          },
          "colorway": [
           "#636efa",
           "#EF553B",
           "#00cc96",
           "#ab63fa",
           "#FFA15A",
           "#19d3f3",
           "#FF6692",
           "#B6E880",
           "#FF97FF",
           "#FECB52"
          ],
          "font": {
           "color": "#2a3f5f"
          },
          "geo": {
           "bgcolor": "white",
           "lakecolor": "white",
           "landcolor": "#E5ECF6",
           "showlakes": true,
           "showland": true,
           "subunitcolor": "white"
          },
          "hoverlabel": {
           "align": "left"
          },
          "hovermode": "closest",
          "mapbox": {
           "style": "light"
          },
          "paper_bgcolor": "white",
          "plot_bgcolor": "#E5ECF6",
          "polar": {
           "angularaxis": {
            "gridcolor": "white",
            "linecolor": "white",
            "ticks": ""
           },
           "bgcolor": "#E5ECF6",
           "radialaxis": {
            "gridcolor": "white",
            "linecolor": "white",
            "ticks": ""
           }
          },
          "scene": {
           "xaxis": {
            "backgroundcolor": "#E5ECF6",
            "gridcolor": "white",
            "gridwidth": 2,
            "linecolor": "white",
            "showbackground": true,
            "ticks": "",
            "zerolinecolor": "white"
           },
           "yaxis": {
            "backgroundcolor": "#E5ECF6",
            "gridcolor": "white",
            "gridwidth": 2,
            "linecolor": "white",
            "showbackground": true,
            "ticks": "",
            "zerolinecolor": "white"
           },
           "zaxis": {
            "backgroundcolor": "#E5ECF6",
            "gridcolor": "white",
            "gridwidth": 2,
            "linecolor": "white",
            "showbackground": true,
            "ticks": "",
            "zerolinecolor": "white"
           }
          },
          "shapedefaults": {
           "line": {
            "color": "#2a3f5f"
           }
          },
          "ternary": {
           "aaxis": {
            "gridcolor": "white",
            "linecolor": "white",
            "ticks": ""
           },
           "baxis": {
            "gridcolor": "white",
            "linecolor": "white",
            "ticks": ""
           },
           "bgcolor": "#E5ECF6",
           "caxis": {
            "gridcolor": "white",
            "linecolor": "white",
            "ticks": ""
           }
          },
          "title": {
           "x": 0.05
          },
          "xaxis": {
           "automargin": true,
           "gridcolor": "white",
           "linecolor": "white",
           "ticks": "",
           "title": {
            "standoff": 15
           },
           "zerolinecolor": "white",
           "zerolinewidth": 2
          },
          "yaxis": {
           "automargin": true,
           "gridcolor": "white",
           "linecolor": "white",
           "ticks": "",
           "title": {
            "standoff": 15
           },
           "zerolinecolor": "white",
           "zerolinewidth": 2
          }
         }
        },
        "xaxis": {
         "anchor": "y",
         "domain": [
          0,
          1
         ],
         "title": {
          "text": "time"
         }
        },
        "yaxis": {
         "anchor": "x",
         "domain": [
          0,
          1
         ],
         "title": {
          "text": "sum of quantity"
         }
        }
       }
      }
     },
     "metadata": {},
     "output_type": "display_data"
    }
   ],
   "source": [
    "busy_time_graph.add_trace(go.Scatter(x=total_Q.time, y=total_Q['quantity'], line_dash = 'dash', line_color = 'black', name=\"Quantity\"))"
   ]
  },
  {
   "cell_type": "code",
   "execution_count": 212,
   "metadata": {},
   "outputs": [
    {
     "name": "stdout",
     "output_type": "stream",
     "text": [
      "The busiest time is at 19.0 with average  216.33333333333334 of purchased quantity\n"
     ]
    }
   ],
   "source": [
    "print(f'The busiest time is at {total_Q_sorted.values[0,0]} with average  {total_Q_sorted.values[0,1] } of purchased quantity')"
   ]
  },
  {
   "cell_type": "markdown",
   "metadata": {},
   "source": [
    "### Which branch that have most income?"
   ]
  },
  {
   "cell_type": "markdown",
   "metadata": {},
   "source": [
    "Taking data only for the branch"
   ]
  },
  {
   "cell_type": "code",
   "execution_count": 178,
   "metadata": {},
   "outputs": [],
   "source": [
    "df_branch = data.groupby('branch').count()"
   ]
  },
  {
   "cell_type": "markdown",
   "metadata": {},
   "source": [
    "I'll take the gross income as our calculation for income"
   ]
  },
  {
   "cell_type": "code",
   "execution_count": 179,
   "metadata": {},
   "outputs": [
    {
     "name": "stdout",
     "output_type": "stream",
     "text": [
      "The branch that have highest gross income is branch C by 5265.1765 of gross income\n"
     ]
    }
   ],
   "source": [
    "gross_income = data.groupby(['branch'])['gross_income'].sum()\n",
    "gross_income_max = gross_income.sort_values(ascending=False).reset_index()\n",
    "print (f'The branch that have highest gross income is branch {gross_income_max.values[0,0]} by {gross_income_max.values[0,1]} of gross income')"
   ]
  },
  {
   "cell_type": "markdown",
   "metadata": {},
   "source": [
    "Visualization of Most Income Branch"
   ]
  },
  {
   "cell_type": "code",
   "execution_count": 213,
   "metadata": {},
   "outputs": [
    {
     "data": {
      "application/vnd.plotly.v1+json": {
       "config": {
        "plotlyServerURL": "https://plot.ly"
       },
       "data": [
        {
         "alignmentgroup": "True",
         "bingroup": "x",
         "histfunc": "sum",
         "hovertemplate": "branch=%{x}<br>sum of gross_income=%{y}<extra></extra>",
         "legendgroup": "A",
         "marker": {
          "color": "#636efa",
          "pattern": {
           "shape": ""
          }
         },
         "name": "A",
         "offsetgroup": "A",
         "orientation": "v",
         "showlegend": true,
         "type": "histogram",
         "x": [
          "A",
          "A",
          "A",
          "A",
          "A",
          "A",
          "A",
          "A",
          "A",
          "A",
          "A",
          "A",
          "A",
          "A",
          "A",
          "A",
          "A",
          "A",
          "A",
          "A",
          "A",
          "A",
          "A",
          "A",
          "A",
          "A",
          "A",
          "A",
          "A",
          "A",
          "A",
          "A",
          "A",
          "A",
          "A",
          "A",
          "A",
          "A",
          "A",
          "A",
          "A",
          "A",
          "A",
          "A",
          "A",
          "A",
          "A",
          "A",
          "A",
          "A",
          "A",
          "A",
          "A",
          "A",
          "A",
          "A",
          "A",
          "A",
          "A",
          "A",
          "A",
          "A",
          "A",
          "A",
          "A",
          "A",
          "A",
          "A",
          "A",
          "A",
          "A",
          "A",
          "A",
          "A",
          "A",
          "A",
          "A",
          "A",
          "A",
          "A",
          "A",
          "A",
          "A",
          "A",
          "A",
          "A",
          "A",
          "A",
          "A",
          "A",
          "A",
          "A",
          "A",
          "A",
          "A",
          "A",
          "A",
          "A",
          "A",
          "A",
          "A",
          "A",
          "A",
          "A",
          "A",
          "A",
          "A",
          "A",
          "A",
          "A",
          "A",
          "A",
          "A",
          "A",
          "A",
          "A",
          "A",
          "A",
          "A",
          "A",
          "A",
          "A",
          "A",
          "A",
          "A",
          "A",
          "A",
          "A",
          "A",
          "A",
          "A",
          "A",
          "A",
          "A",
          "A",
          "A",
          "A",
          "A",
          "A",
          "A",
          "A",
          "A",
          "A",
          "A",
          "A",
          "A",
          "A",
          "A",
          "A",
          "A",
          "A",
          "A",
          "A",
          "A",
          "A",
          "A",
          "A",
          "A",
          "A",
          "A",
          "A",
          "A",
          "A",
          "A",
          "A",
          "A",
          "A",
          "A",
          "A",
          "A",
          "A",
          "A",
          "A",
          "A",
          "A",
          "A",
          "A",
          "A",
          "A",
          "A",
          "A",
          "A",
          "A",
          "A",
          "A",
          "A",
          "A",
          "A",
          "A",
          "A",
          "A",
          "A",
          "A",
          "A",
          "A",
          "A",
          "A",
          "A",
          "A",
          "A",
          "A",
          "A",
          "A",
          "A",
          "A",
          "A",
          "A",
          "A",
          "A",
          "A",
          "A",
          "A",
          "A",
          "A",
          "A",
          "A",
          "A",
          "A",
          "A",
          "A",
          "A",
          "A",
          "A",
          "A",
          "A",
          "A",
          "A",
          "A",
          "A",
          "A",
          "A",
          "A",
          "A",
          "A",
          "A",
          "A",
          "A",
          "A",
          "A",
          "A",
          "A",
          "A",
          "A",
          "A",
          "A",
          "A",
          "A",
          "A",
          "A",
          "A",
          "A",
          "A",
          "A",
          "A",
          "A",
          "A",
          "A",
          "A",
          "A",
          "A",
          "A",
          "A",
          "A",
          "A",
          "A",
          "A",
          "A",
          "A",
          "A",
          "A",
          "A",
          "A",
          "A",
          "A",
          "A",
          "A",
          "A",
          "A",
          "A",
          "A",
          "A",
          "A",
          "A",
          "A",
          "A",
          "A",
          "A",
          "A",
          "A",
          "A",
          "A",
          "A",
          "A",
          "A",
          "A",
          "A",
          "A",
          "A",
          "A",
          "A",
          "A",
          "A",
          "A",
          "A",
          "A",
          "A",
          "A",
          "A",
          "A",
          "A",
          "A",
          "A",
          "A",
          "A",
          "A",
          "A",
          "A",
          "A",
          "A",
          "A",
          "A",
          "A",
          "A",
          "A",
          "A",
          "A",
          "A",
          "A",
          "A",
          "A",
          "A",
          "A",
          "A",
          "A",
          "A",
          "A",
          "A",
          "A",
          "A",
          "A"
         ],
         "xaxis": "x",
         "y": [
          26.1415,
          7.629,
          44.1405,
          22.8525,
          24.513,
          11.232,
          3.473,
          34.8425,
          18.998,
          10.7275,
          9.672,
          3.291,
          9.83,
          7.43,
          34.672,
          9.285,
          8.315,
          9.777,
          16.11,
          21.565,
          8.01,
          12.835,
          4.154,
          1.25,
          15.9025,
          6.685,
          40.1445,
          10.197,
          7.038,
          1.93,
          45.325,
          7.08,
          14.61,
          29.559,
          17.424,
          33.725,
          1.448,
          1.5305,
          18.7775,
          7.032,
          7.83,
          11.28,
          2.279,
          3.655,
          10.765,
          7.851,
          4.897,
          10.342,
          12.854,
          21.4775,
          3.5455,
          29.583,
          40.605,
          22.353,
          10.863,
          12.498,
          6.762,
          19.818,
          27.4275,
          14.71,
          4.602,
          15.536,
          10.752,
          18.6095,
          20.372,
          15.4425,
          4.578,
          6.9975,
          3.5575,
          8.191,
          3.972,
          35.516,
          14.0805,
          25.27,
          10.238,
          12.002,
          23.514,
          3.636,
          6.456,
          3.124,
          9.534,
          29.949,
          0.767,
          27.984,
          22.01,
          1.203,
          9.693,
          17.77,
          14.148,
          34.44,
          11.12,
          33.777,
          6.45,
          33.208,
          8.827,
          24.945,
          4.935,
          3.876,
          5.2425,
          11.306,
          3.4475,
          13.452,
          13.5675,
          19.375,
          3.987,
          26.13,
          3.841,
          16.16,
          10.235,
          16.466,
          7.272,
          24.175,
          9.675,
          13.188,
          21.966,
          32.384,
          18.0915,
          9.107,
          3.5975,
          35.0685,
          6.6975,
          34.38,
          7.1125,
          2.348,
          19.255,
          16.7725,
          4.5805,
          6.087,
          7.995,
          36.735,
          4.395,
          15.953,
          8.334,
          10.326,
          36.008,
          4.658,
          26.718,
          8.687,
          12.918,
          11.9385,
          1.276,
          21.4335,
          38.46,
          5.662,
          9.848,
          3.705,
          29.73,
          3.663,
          14.067,
          1.066,
          3.947,
          7.791,
          9.635,
          2.619,
          4.565,
          4.224,
          37.11,
          23.9875,
          6.192,
          15.768,
          4.0355,
          1.592,
          5.803,
          14.14,
          43.866,
          11.63,
          14.932,
          12.012,
          2.37,
          12.1515,
          14.985,
          0.775,
          2.089,
          44.397,
          6.9325,
          14.8995,
          3.528,
          12.6975,
          22.84,
          13.304,
          13.8135,
          22.37,
          37.22,
          17.829,
          18.934,
          14.94,
          20.536,
          37.248,
          7.954,
          32.858,
          4.402,
          10.3065,
          4.768,
          1.791,
          25.011,
          8.92,
          24.186,
          3.855,
          31.311,
          5.408,
          21.8425,
          24.315,
          10.065,
          31.78,
          2.148,
          14.55,
          6.807,
          14.694,
          28.02,
          9.726,
          2.7725,
          6.9825,
          13.2225,
          2.3535,
          36.39,
          8.712,
          10.1325,
          8.377,
          11.7465,
          32.095,
          0.6045,
          22.74,
          4.464,
          8.4,
          0.985,
          13.552,
          19.448,
          4.7575,
          20.13,
          10.046,
          9.318,
          15.494,
          22.032,
          12.245,
          4.661,
          32.41,
          2.3205,
          20.6185,
          26.103,
          1.531,
          18.952,
          3.429,
          11.1,
          2.6725,
          25.552,
          11.078,
          9.425,
          28.956,
          38.916,
          8.71,
          6.82,
          3.769,
          7.163,
          42.282,
          7.773,
          3.3175,
          20.608,
          23.56,
          44.335,
          18.639,
          26.1315,
          5.48,
          39.824,
          32.7915,
          27.639,
          6.5775,
          10.326,
          29,
          23.385,
          15.07,
          12.984,
          37.458,
          23.0725,
          3.1845,
          16.0265,
          11.8035,
          10.3635,
          1.2645,
          8.1775,
          3.7035,
          4.319,
          17.478,
          7.75,
          8.868,
          15.228,
          17.5025,
          24.332,
          15.384,
          49.49,
          22.164,
          0.914,
          7.9125,
          7.693,
          16.2155,
          23.288,
          30.2085,
          20.652,
          3.626,
          11.7375,
          21.595,
          35.69,
          24.1255,
          21.783,
          8.2005,
          8.64,
          13.2945,
          21.036,
          8.767,
          11.2005,
          9.658,
          2.1235,
          17.283,
          9.0045,
          33.6015,
          0.9165,
          39.385,
          4.858,
          7.935,
          36.175,
          35.84,
          4.434,
          11.1475,
          27.396,
          15.655,
          7.905,
          14.196,
          8.0625,
          30.919,
          15.544,
          12.53,
          25.97,
          5.977,
          4.485,
          4.4845,
          11.223,
          4.75,
          19.036,
          4.325,
          9.314,
          25.368
         ],
         "yaxis": "y"
        },
        {
         "alignmentgroup": "True",
         "bingroup": "x",
         "histfunc": "sum",
         "hovertemplate": "branch=%{x}<br>sum of gross_income=%{y}<extra></extra>",
         "legendgroup": "B",
         "marker": {
          "color": "#EF553B",
          "pattern": {
           "shape": ""
          }
         },
         "name": "B",
         "offsetgroup": "B",
         "orientation": "v",
         "showlegend": true,
         "type": "histogram",
         "x": [
          "B",
          "B",
          "B",
          "B",
          "B",
          "B",
          "B",
          "B",
          "B",
          "B",
          "B",
          "B",
          "B",
          "B",
          "B",
          "B",
          "B",
          "B",
          "B",
          "B",
          "B",
          "B",
          "B",
          "B",
          "B",
          "B",
          "B",
          "B",
          "B",
          "B",
          "B",
          "B",
          "B",
          "B",
          "B",
          "B",
          "B",
          "B",
          "B",
          "B",
          "B",
          "B",
          "B",
          "B",
          "B",
          "B",
          "B",
          "B",
          "B",
          "B",
          "B",
          "B",
          "B",
          "B",
          "B",
          "B",
          "B",
          "B",
          "B",
          "B",
          "B",
          "B",
          "B",
          "B",
          "B",
          "B",
          "B",
          "B",
          "B",
          "B",
          "B",
          "B",
          "B",
          "B",
          "B",
          "B",
          "B",
          "B",
          "B",
          "B",
          "B",
          "B",
          "B",
          "B",
          "B",
          "B",
          "B",
          "B",
          "B",
          "B",
          "B",
          "B",
          "B",
          "B",
          "B",
          "B",
          "B",
          "B",
          "B",
          "B",
          "B",
          "B",
          "B",
          "B",
          "B",
          "B",
          "B",
          "B",
          "B",
          "B",
          "B",
          "B",
          "B",
          "B",
          "B",
          "B",
          "B",
          "B",
          "B",
          "B",
          "B",
          "B",
          "B",
          "B",
          "B",
          "B",
          "B",
          "B",
          "B",
          "B",
          "B",
          "B",
          "B",
          "B",
          "B",
          "B",
          "B",
          "B",
          "B",
          "B",
          "B",
          "B",
          "B",
          "B",
          "B",
          "B",
          "B",
          "B",
          "B",
          "B",
          "B",
          "B",
          "B",
          "B",
          "B",
          "B",
          "B",
          "B",
          "B",
          "B",
          "B",
          "B",
          "B",
          "B",
          "B",
          "B",
          "B",
          "B",
          "B",
          "B",
          "B",
          "B",
          "B",
          "B",
          "B",
          "B",
          "B",
          "B",
          "B",
          "B",
          "B",
          "B",
          "B",
          "B",
          "B",
          "B",
          "B",
          "B",
          "B",
          "B",
          "B",
          "B",
          "B",
          "B",
          "B",
          "B",
          "B",
          "B",
          "B",
          "B",
          "B",
          "B",
          "B",
          "B",
          "B",
          "B",
          "B",
          "B",
          "B",
          "B",
          "B",
          "B",
          "B",
          "B",
          "B",
          "B",
          "B",
          "B",
          "B",
          "B",
          "B",
          "B",
          "B",
          "B",
          "B",
          "B",
          "B",
          "B",
          "B",
          "B",
          "B",
          "B",
          "B",
          "B",
          "B",
          "B",
          "B",
          "B",
          "B",
          "B",
          "B",
          "B",
          "B",
          "B",
          "B",
          "B",
          "B",
          "B",
          "B",
          "B",
          "B",
          "B",
          "B",
          "B",
          "B",
          "B",
          "B",
          "B",
          "B",
          "B",
          "B",
          "B",
          "B",
          "B",
          "B",
          "B",
          "B",
          "B",
          "B",
          "B",
          "B",
          "B",
          "B",
          "B",
          "B",
          "B",
          "B",
          "B",
          "B",
          "B",
          "B",
          "B",
          "B",
          "B",
          "B",
          "B",
          "B",
          "B",
          "B",
          "B",
          "B",
          "B",
          "B",
          "B",
          "B",
          "B",
          "B",
          "B",
          "B",
          "B",
          "B",
          "B",
          "B",
          "B",
          "B",
          "B",
          "B",
          "B",
          "B",
          "B",
          "B",
          "B",
          "B",
          "B",
          "B",
          "B",
          "B",
          "B",
          "B",
          "B",
          "B",
          "B",
          "B",
          "B",
          "B",
          "B",
          "B",
          "B",
          "B",
          "B",
          "B",
          "B"
         ],
         "xaxis": "x",
         "y": [
          17.8745,
          22.588,
          36.212,
          44.982,
          1.9505,
          2.223,
          14.52,
          25.955,
          33.1065,
          20.736,
          14.955,
          10.715,
          4.336,
          11.9865,
          12.048,
          9.459,
          3.616,
          16.353,
          5.679,
          5.076,
          6.35,
          26.395,
          40.626,
          9.0045,
          13.867,
          4.5675,
          7.888,
          41.29,
          16.4295,
          21.78,
          8.448,
          6.968,
          25.5105,
          6.524,
          17.277,
          26.235,
          5.789,
          18.792,
          41.625,
          13.983,
          16.605,
          6.951,
          37.8405,
          3.6085,
          7.762,
          3.56,
          4.036,
          23.164,
          12.57,
          43.749,
          28.017,
          3.698,
          7.095,
          15.135,
          39.664,
          11.475,
          1.5885,
          8.137,
          27.18,
          5.986,
          7.842,
          12.885,
          33.512,
          8.5905,
          24.4395,
          4.84,
          33.235,
          12.06,
          28.4585,
          5.984,
          7.239,
          13.335,
          20.51,
          15.995,
          1.9875,
          27.951,
          9.925,
          18.308,
          16.968,
          16.7895,
          9.711,
          14.764,
          7.204,
          5.622,
          29.913,
          28.744,
          4.4075,
          3.574,
          14.8185,
          26.558,
          20.15,
          43.935,
          18.263,
          7.278,
          34.87,
          34.0155,
          4.668,
          6.618,
          8.946,
          5.244,
          0.8875,
          24.81,
          4.3,
          29.283,
          21.284,
          19.232,
          8.6,
          25.1195,
          2.686,
          6.903,
          36.624,
          28.962,
          7.215,
          39.5415,
          19.108,
          14.502,
          19.128,
          4.107,
          38.184,
          36.065,
          38.6,
          39.7755,
          14.296,
          18.32,
          23.097,
          4.464,
          48.685,
          5.5305,
          32.615,
          16.67,
          2.718,
          4.639,
          16.9785,
          7.863,
          36.2115,
          4.848,
          4.062,
          14.2555,
          3.594,
          8.661,
          17.625,
          13.389,
          6.4455,
          5.485,
          2.568,
          12.036,
          16.794,
          5.344,
          16.743,
          18.915,
          3.015,
          1.616,
          1.6815,
          19.95,
          5.567,
          37.548,
          9.34,
          11.0115,
          4.74,
          11.79,
          10.578,
          12.438,
          10.6225,
          3.305,
          15.148,
          21.028,
          24.7815,
          9.055,
          9.885,
          32.4495,
          4.91,
          6.924,
          1.7405,
          1.974,
          1.649,
          12.514,
          22.428,
          8.377,
          25.494,
          6.483,
          17.028,
          26.208,
          3.285,
          20.9475,
          2.187,
          17.105,
          13.806,
          13.742,
          2.7225,
          9.9375,
          5.102,
          3.333,
          8.658,
          12.318,
          6.1155,
          3.827,
          2.896,
          11.498,
          8.226,
          12.95,
          18.975,
          7.66,
          5.11,
          4.8055,
          19.773,
          5.722,
          9.294,
          35.372,
          4.03,
          25.571,
          37.3,
          28.116,
          2.372,
          33.439,
          2.689,
          6.377,
          6.908,
          16.8175,
          3.1305,
          7.352,
          18.2745,
          10.168,
          10.572,
          5.9865,
          35.1315,
          12.57,
          11.556,
          8.6225,
          4.4425,
          42.315,
          19.1555,
          6.963,
          6.75,
          10.3635,
          38.3,
          6.1925,
          19.548,
          8.745,
          26.915,
          12.15,
          19.5895,
          19.269,
          17.385,
          37.948,
          8.601,
          13.605,
          21.728,
          48.69,
          9.909,
          10.226,
          7.2135,
          37.796,
          30.148,
          24.8,
          3.791,
          12.9185,
          30.478,
          24.9225,
          4.73,
          4.992,
          15.921,
          7.98,
          4.5555,
          17.828,
          1.2725,
          6.096,
          9.191,
          44.8785,
          31.2165,
          15.9275,
          1.476,
          23.09,
          3.7485,
          4.125,
          3.3885,
          0.9575,
          4.669,
          13.197,
          9.989,
          10.128,
          15.867,
          3.47,
          34.956,
          7.916,
          9.898,
          1.676,
          30.19,
          16.8575,
          17.185,
          10.3455,
          3.939,
          4.911,
          29.028,
          2.756,
          4.4155,
          30.368,
          11.106,
          4.3725,
          4.9065,
          6.8565,
          23.979,
          9.194,
          13.715,
          23.5325,
          12.21,
          27.21,
          31.759,
          15.3225,
          25.215,
          7.275,
          20.0125,
          4.4225,
          9.331,
          20.72,
          3.6985,
          22.09,
          24.505,
          39.7125,
          20.545,
          1.956,
          29.976,
          2.531,
          2.712,
          22.413,
          39.695,
          34.83,
          1.3535,
          36.525,
          7.39,
          6.603,
          3.32,
          18.945
         ],
         "yaxis": "y"
        },
        {
         "alignmentgroup": "True",
         "bingroup": "x",
         "histfunc": "sum",
         "hovertemplate": "branch=%{x}<br>sum of gross_income=%{y}<extra></extra>",
         "legendgroup": "C",
         "marker": {
          "color": "#00cc96",
          "pattern": {
           "shape": ""
          }
         },
         "name": "C",
         "offsetgroup": "C",
         "orientation": "v",
         "showlegend": true,
         "type": "histogram",
         "x": [
          "C",
          "C",
          "C",
          "C",
          "C",
          "C",
          "C",
          "C",
          "C",
          "C",
          "C",
          "C",
          "C",
          "C",
          "C",
          "C",
          "C",
          "C",
          "C",
          "C",
          "C",
          "C",
          "C",
          "C",
          "C",
          "C",
          "C",
          "C",
          "C",
          "C",
          "C",
          "C",
          "C",
          "C",
          "C",
          "C",
          "C",
          "C",
          "C",
          "C",
          "C",
          "C",
          "C",
          "C",
          "C",
          "C",
          "C",
          "C",
          "C",
          "C",
          "C",
          "C",
          "C",
          "C",
          "C",
          "C",
          "C",
          "C",
          "C",
          "C",
          "C",
          "C",
          "C",
          "C",
          "C",
          "C",
          "C",
          "C",
          "C",
          "C",
          "C",
          "C",
          "C",
          "C",
          "C",
          "C",
          "C",
          "C",
          "C",
          "C",
          "C",
          "C",
          "C",
          "C",
          "C",
          "C",
          "C",
          "C",
          "C",
          "C",
          "C",
          "C",
          "C",
          "C",
          "C",
          "C",
          "C",
          "C",
          "C",
          "C",
          "C",
          "C",
          "C",
          "C",
          "C",
          "C",
          "C",
          "C",
          "C",
          "C",
          "C",
          "C",
          "C",
          "C",
          "C",
          "C",
          "C",
          "C",
          "C",
          "C",
          "C",
          "C",
          "C",
          "C",
          "C",
          "C",
          "C",
          "C",
          "C",
          "C",
          "C",
          "C",
          "C",
          "C",
          "C",
          "C",
          "C",
          "C",
          "C",
          "C",
          "C",
          "C",
          "C",
          "C",
          "C",
          "C",
          "C",
          "C",
          "C",
          "C",
          "C",
          "C",
          "C",
          "C",
          "C",
          "C",
          "C",
          "C",
          "C",
          "C",
          "C",
          "C",
          "C",
          "C",
          "C",
          "C",
          "C",
          "C",
          "C",
          "C",
          "C",
          "C",
          "C",
          "C",
          "C",
          "C",
          "C",
          "C",
          "C",
          "C",
          "C",
          "C",
          "C",
          "C",
          "C",
          "C",
          "C",
          "C",
          "C",
          "C",
          "C",
          "C",
          "C",
          "C",
          "C",
          "C",
          "C",
          "C",
          "C",
          "C",
          "C",
          "C",
          "C",
          "C",
          "C",
          "C",
          "C",
          "C",
          "C",
          "C",
          "C",
          "C",
          "C",
          "C",
          "C",
          "C",
          "C",
          "C",
          "C",
          "C",
          "C",
          "C",
          "C",
          "C",
          "C",
          "C",
          "C",
          "C",
          "C",
          "C",
          "C",
          "C",
          "C",
          "C",
          "C",
          "C",
          "C",
          "C",
          "C",
          "C",
          "C",
          "C",
          "C",
          "C",
          "C",
          "C",
          "C",
          "C",
          "C",
          "C",
          "C",
          "C",
          "C",
          "C",
          "C",
          "C",
          "C",
          "C",
          "C",
          "C",
          "C",
          "C",
          "C",
          "C",
          "C",
          "C",
          "C",
          "C",
          "C",
          "C",
          "C",
          "C",
          "C",
          "C",
          "C",
          "C",
          "C",
          "C",
          "C",
          "C",
          "C",
          "C",
          "C",
          "C",
          "C",
          "C",
          "C",
          "C",
          "C",
          "C",
          "C",
          "C",
          "C",
          "C",
          "C",
          "C",
          "C",
          "C",
          "C",
          "C",
          "C",
          "C",
          "C",
          "C",
          "C",
          "C",
          "C",
          "C",
          "C",
          "C",
          "C",
          "C",
          "C",
          "C",
          "C",
          "C",
          "C",
          "C",
          "C",
          "C",
          "C",
          "C",
          "C",
          "C",
          "C",
          "C",
          "C",
          "C"
         ],
         "xaxis": "x",
         "y": [
          8.425,
          27.935,
          1.537,
          22.773,
          23.1225,
          13.188,
          21.6725,
          42.305,
          12.08,
          20.915,
          3.0435,
          23.5865,
          12.858,
          41.17,
          31.99,
          31.06,
          32.796,
          44.74,
          39.48,
          41.315,
          4.3135,
          7.094,
          18.6165,
          14.181,
          3.82,
          8.72,
          29.757,
          5.095,
          17.187,
          20.178,
          17.604,
          2.0175,
          2.54,
          39.155,
          28.756,
          21.259,
          2.7475,
          9.0705,
          3.743,
          44.919,
          3.0475,
          22.068,
          5.832,
          13.71,
          15.676,
          20.825,
          27.6115,
          33.7295,
          29.8865,
          1.439,
          16.719,
          22.428,
          4.072,
          32.475,
          3.711,
          8.335,
          16.1055,
          9.183,
          4.208,
          1.273,
          21.968,
          29.099,
          14.523,
          10.566,
          5.611,
          17.595,
          4.599,
          34.392,
          2.6175,
          7.9,
          35.495,
          26.104,
          8.766,
          2.825,
          22.7205,
          2.1425,
          34.986,
          10.647,
          3.6465,
          31.09,
          6.3125,
          11.918,
          9.32,
          16.2425,
          4.876,
          3.347,
          5.0715,
          15.904,
          11.226,
          19.884,
          1.119,
          3.406,
          8.9525,
          3.29,
          19.084,
          6.282,
          8.613,
          36.78,
          21.51,
          0.7715,
          1.487,
          10.91,
          0.5085,
          1.85,
          2.112,
          29.96,
          18.852,
          6.565,
          7.8785,
          3.162,
          13.02,
          22.491,
          15.388,
          25.131,
          4.942,
          1.079,
          13.0025,
          27.275,
          18.6975,
          1.131,
          14.79,
          10.13,
          1.7945,
          23.285,
          13.724,
          10.3845,
          6.861,
          13.83,
          0.639,
          4.36,
          16.344,
          16.814,
          9.937,
          26.388,
          16.4,
          3.794,
          26.244,
          5.8345,
          17.272,
          7.3395,
          7.64,
          6.287,
          47.79,
          24.951,
          17.98,
          9.8475,
          3.408,
          2.5735,
          6.933,
          4.785,
          6.94,
          1.595,
          8.34,
          27.072,
          6.322,
          6.06,
          1.148,
          18.49,
          39.065,
          20.4365,
          8.814,
          16.586,
          44.658,
          29.9925,
          19.396,
          33.4215,
          14.265,
          12.624,
          21.033,
          7.18,
          23.094,
          16.336,
          8.248,
          41.967,
          2.661,
          9.979,
          47.72,
          18.775,
          1.512,
          49.65,
          35.7,
          8.716,
          24.2575,
          7.1475,
          3.675,
          2.9525,
          0.627,
          37.788,
          5.631,
          14.978,
          14.031,
          13.962,
          4.327,
          0.814,
          48.605,
          12.6075,
          5.79,
          39.51,
          4.0755,
          9.076,
          10.3185,
          3.7145,
          7.412,
          5.955,
          1.971,
          8.3,
          34.2265,
          0.699,
          9.244,
          11.829,
          17.8475,
          5.745,
          21.4935,
          12.072,
          24.3315,
          4.37,
          22.8585,
          32.388,
          4.944,
          3.735,
          9.7475,
          2.4355,
          39.48,
          6.2325,
          34.9335,
          15.106,
          35.3475,
          10.3815,
          6.248,
          3.449,
          24.164,
          48.75,
          23.67,
          25.683,
          8.214,
          19.264,
          31.5855,
          7.288,
          15.291,
          40.985,
          14.796,
          29.475,
          40.7835,
          12.8695,
          11.4,
          8.3355,
          2.621,
          23.7965,
          30.0545,
          11.409,
          7.7,
          16.072,
          12.2275,
          29.071,
          19.13,
          10.6875,
          12.7305,
          14.7315,
          9.476,
          2.6325,
          1.921,
          12.668,
          22.43,
          4.2415,
          19.4635,
          29.38,
          28.42,
          40.975,
          4.4875,
          19.452,
          28.4305,
          13.456,
          12.98,
          14.313,
          38.78,
          3.2495,
          4.154,
          9.982,
          9.2125,
          20.997,
          2.4305,
          8.484,
          13.959,
          44.9,
          29.805,
          18.1615,
          45.25,
          1.5205,
          9.298,
          4.083,
          13.878,
          6.354,
          13.228,
          25.893,
          24.665,
          44.6,
          12.096,
          49.26,
          34.3,
          6.663,
          13.533,
          24.39,
          36.3555,
          9.88,
          5.999,
          4.053,
          4.9845,
          5.768,
          12.37,
          1.549,
          21.063,
          11.055,
          3.0125,
          9.958,
          29.008,
          2.31,
          19.992,
          25.564,
          4.3525,
          14.2785,
          27.416,
          13.038,
          21.9775,
          4.4305,
          4.0465,
          44.5365,
          35.42,
          43.55
         ],
         "yaxis": "y"
        }
       ],
       "layout": {
        "barmode": "relative",
        "legend": {
         "title": {
          "text": "branch"
         },
         "tracegroupgap": 0
        },
        "template": {
         "data": {
          "bar": [
           {
            "error_x": {
             "color": "#2a3f5f"
            },
            "error_y": {
             "color": "#2a3f5f"
            },
            "marker": {
             "line": {
              "color": "#E5ECF6",
              "width": 0.5
             },
             "pattern": {
              "fillmode": "overlay",
              "size": 10,
              "solidity": 0.2
             }
            },
            "type": "bar"
           }
          ],
          "barpolar": [
           {
            "marker": {
             "line": {
              "color": "#E5ECF6",
              "width": 0.5
             },
             "pattern": {
              "fillmode": "overlay",
              "size": 10,
              "solidity": 0.2
             }
            },
            "type": "barpolar"
           }
          ],
          "carpet": [
           {
            "aaxis": {
             "endlinecolor": "#2a3f5f",
             "gridcolor": "white",
             "linecolor": "white",
             "minorgridcolor": "white",
             "startlinecolor": "#2a3f5f"
            },
            "baxis": {
             "endlinecolor": "#2a3f5f",
             "gridcolor": "white",
             "linecolor": "white",
             "minorgridcolor": "white",
             "startlinecolor": "#2a3f5f"
            },
            "type": "carpet"
           }
          ],
          "choropleth": [
           {
            "colorbar": {
             "outlinewidth": 0,
             "ticks": ""
            },
            "type": "choropleth"
           }
          ],
          "contour": [
           {
            "colorbar": {
             "outlinewidth": 0,
             "ticks": ""
            },
            "colorscale": [
             [
              0,
              "#0d0887"
             ],
             [
              0.1111111111111111,
              "#46039f"
             ],
             [
              0.2222222222222222,
              "#7201a8"
             ],
             [
              0.3333333333333333,
              "#9c179e"
             ],
             [
              0.4444444444444444,
              "#bd3786"
             ],
             [
              0.5555555555555556,
              "#d8576b"
             ],
             [
              0.6666666666666666,
              "#ed7953"
             ],
             [
              0.7777777777777778,
              "#fb9f3a"
             ],
             [
              0.8888888888888888,
              "#fdca26"
             ],
             [
              1,
              "#f0f921"
             ]
            ],
            "type": "contour"
           }
          ],
          "contourcarpet": [
           {
            "colorbar": {
             "outlinewidth": 0,
             "ticks": ""
            },
            "type": "contourcarpet"
           }
          ],
          "heatmap": [
           {
            "colorbar": {
             "outlinewidth": 0,
             "ticks": ""
            },
            "colorscale": [
             [
              0,
              "#0d0887"
             ],
             [
              0.1111111111111111,
              "#46039f"
             ],
             [
              0.2222222222222222,
              "#7201a8"
             ],
             [
              0.3333333333333333,
              "#9c179e"
             ],
             [
              0.4444444444444444,
              "#bd3786"
             ],
             [
              0.5555555555555556,
              "#d8576b"
             ],
             [
              0.6666666666666666,
              "#ed7953"
             ],
             [
              0.7777777777777778,
              "#fb9f3a"
             ],
             [
              0.8888888888888888,
              "#fdca26"
             ],
             [
              1,
              "#f0f921"
             ]
            ],
            "type": "heatmap"
           }
          ],
          "heatmapgl": [
           {
            "colorbar": {
             "outlinewidth": 0,
             "ticks": ""
            },
            "colorscale": [
             [
              0,
              "#0d0887"
             ],
             [
              0.1111111111111111,
              "#46039f"
             ],
             [
              0.2222222222222222,
              "#7201a8"
             ],
             [
              0.3333333333333333,
              "#9c179e"
             ],
             [
              0.4444444444444444,
              "#bd3786"
             ],
             [
              0.5555555555555556,
              "#d8576b"
             ],
             [
              0.6666666666666666,
              "#ed7953"
             ],
             [
              0.7777777777777778,
              "#fb9f3a"
             ],
             [
              0.8888888888888888,
              "#fdca26"
             ],
             [
              1,
              "#f0f921"
             ]
            ],
            "type": "heatmapgl"
           }
          ],
          "histogram": [
           {
            "marker": {
             "pattern": {
              "fillmode": "overlay",
              "size": 10,
              "solidity": 0.2
             }
            },
            "type": "histogram"
           }
          ],
          "histogram2d": [
           {
            "colorbar": {
             "outlinewidth": 0,
             "ticks": ""
            },
            "colorscale": [
             [
              0,
              "#0d0887"
             ],
             [
              0.1111111111111111,
              "#46039f"
             ],
             [
              0.2222222222222222,
              "#7201a8"
             ],
             [
              0.3333333333333333,
              "#9c179e"
             ],
             [
              0.4444444444444444,
              "#bd3786"
             ],
             [
              0.5555555555555556,
              "#d8576b"
             ],
             [
              0.6666666666666666,
              "#ed7953"
             ],
             [
              0.7777777777777778,
              "#fb9f3a"
             ],
             [
              0.8888888888888888,
              "#fdca26"
             ],
             [
              1,
              "#f0f921"
             ]
            ],
            "type": "histogram2d"
           }
          ],
          "histogram2dcontour": [
           {
            "colorbar": {
             "outlinewidth": 0,
             "ticks": ""
            },
            "colorscale": [
             [
              0,
              "#0d0887"
             ],
             [
              0.1111111111111111,
              "#46039f"
             ],
             [
              0.2222222222222222,
              "#7201a8"
             ],
             [
              0.3333333333333333,
              "#9c179e"
             ],
             [
              0.4444444444444444,
              "#bd3786"
             ],
             [
              0.5555555555555556,
              "#d8576b"
             ],
             [
              0.6666666666666666,
              "#ed7953"
             ],
             [
              0.7777777777777778,
              "#fb9f3a"
             ],
             [
              0.8888888888888888,
              "#fdca26"
             ],
             [
              1,
              "#f0f921"
             ]
            ],
            "type": "histogram2dcontour"
           }
          ],
          "mesh3d": [
           {
            "colorbar": {
             "outlinewidth": 0,
             "ticks": ""
            },
            "type": "mesh3d"
           }
          ],
          "parcoords": [
           {
            "line": {
             "colorbar": {
              "outlinewidth": 0,
              "ticks": ""
             }
            },
            "type": "parcoords"
           }
          ],
          "pie": [
           {
            "automargin": true,
            "type": "pie"
           }
          ],
          "scatter": [
           {
            "marker": {
             "colorbar": {
              "outlinewidth": 0,
              "ticks": ""
             }
            },
            "type": "scatter"
           }
          ],
          "scatter3d": [
           {
            "line": {
             "colorbar": {
              "outlinewidth": 0,
              "ticks": ""
             }
            },
            "marker": {
             "colorbar": {
              "outlinewidth": 0,
              "ticks": ""
             }
            },
            "type": "scatter3d"
           }
          ],
          "scattercarpet": [
           {
            "marker": {
             "colorbar": {
              "outlinewidth": 0,
              "ticks": ""
             }
            },
            "type": "scattercarpet"
           }
          ],
          "scattergeo": [
           {
            "marker": {
             "colorbar": {
              "outlinewidth": 0,
              "ticks": ""
             }
            },
            "type": "scattergeo"
           }
          ],
          "scattergl": [
           {
            "marker": {
             "colorbar": {
              "outlinewidth": 0,
              "ticks": ""
             }
            },
            "type": "scattergl"
           }
          ],
          "scattermapbox": [
           {
            "marker": {
             "colorbar": {
              "outlinewidth": 0,
              "ticks": ""
             }
            },
            "type": "scattermapbox"
           }
          ],
          "scatterpolar": [
           {
            "marker": {
             "colorbar": {
              "outlinewidth": 0,
              "ticks": ""
             }
            },
            "type": "scatterpolar"
           }
          ],
          "scatterpolargl": [
           {
            "marker": {
             "colorbar": {
              "outlinewidth": 0,
              "ticks": ""
             }
            },
            "type": "scatterpolargl"
           }
          ],
          "scatterternary": [
           {
            "marker": {
             "colorbar": {
              "outlinewidth": 0,
              "ticks": ""
             }
            },
            "type": "scatterternary"
           }
          ],
          "surface": [
           {
            "colorbar": {
             "outlinewidth": 0,
             "ticks": ""
            },
            "colorscale": [
             [
              0,
              "#0d0887"
             ],
             [
              0.1111111111111111,
              "#46039f"
             ],
             [
              0.2222222222222222,
              "#7201a8"
             ],
             [
              0.3333333333333333,
              "#9c179e"
             ],
             [
              0.4444444444444444,
              "#bd3786"
             ],
             [
              0.5555555555555556,
              "#d8576b"
             ],
             [
              0.6666666666666666,
              "#ed7953"
             ],
             [
              0.7777777777777778,
              "#fb9f3a"
             ],
             [
              0.8888888888888888,
              "#fdca26"
             ],
             [
              1,
              "#f0f921"
             ]
            ],
            "type": "surface"
           }
          ],
          "table": [
           {
            "cells": {
             "fill": {
              "color": "#EBF0F8"
             },
             "line": {
              "color": "white"
             }
            },
            "header": {
             "fill": {
              "color": "#C8D4E3"
             },
             "line": {
              "color": "white"
             }
            },
            "type": "table"
           }
          ]
         },
         "layout": {
          "annotationdefaults": {
           "arrowcolor": "#2a3f5f",
           "arrowhead": 0,
           "arrowwidth": 1
          },
          "autotypenumbers": "strict",
          "coloraxis": {
           "colorbar": {
            "outlinewidth": 0,
            "ticks": ""
           }
          },
          "colorscale": {
           "diverging": [
            [
             0,
             "#8e0152"
            ],
            [
             0.1,
             "#c51b7d"
            ],
            [
             0.2,
             "#de77ae"
            ],
            [
             0.3,
             "#f1b6da"
            ],
            [
             0.4,
             "#fde0ef"
            ],
            [
             0.5,
             "#f7f7f7"
            ],
            [
             0.6,
             "#e6f5d0"
            ],
            [
             0.7,
             "#b8e186"
            ],
            [
             0.8,
             "#7fbc41"
            ],
            [
             0.9,
             "#4d9221"
            ],
            [
             1,
             "#276419"
            ]
           ],
           "sequential": [
            [
             0,
             "#0d0887"
            ],
            [
             0.1111111111111111,
             "#46039f"
            ],
            [
             0.2222222222222222,
             "#7201a8"
            ],
            [
             0.3333333333333333,
             "#9c179e"
            ],
            [
             0.4444444444444444,
             "#bd3786"
            ],
            [
             0.5555555555555556,
             "#d8576b"
            ],
            [
             0.6666666666666666,
             "#ed7953"
            ],
            [
             0.7777777777777778,
             "#fb9f3a"
            ],
            [
             0.8888888888888888,
             "#fdca26"
            ],
            [
             1,
             "#f0f921"
            ]
           ],
           "sequentialminus": [
            [
             0,
             "#0d0887"
            ],
            [
             0.1111111111111111,
             "#46039f"
            ],
            [
             0.2222222222222222,
             "#7201a8"
            ],
            [
             0.3333333333333333,
             "#9c179e"
            ],
            [
             0.4444444444444444,
             "#bd3786"
            ],
            [
             0.5555555555555556,
             "#d8576b"
            ],
            [
             0.6666666666666666,
             "#ed7953"
            ],
            [
             0.7777777777777778,
             "#fb9f3a"
            ],
            [
             0.8888888888888888,
             "#fdca26"
            ],
            [
             1,
             "#f0f921"
            ]
           ]
          },
          "colorway": [
           "#636efa",
           "#EF553B",
           "#00cc96",
           "#ab63fa",
           "#FFA15A",
           "#19d3f3",
           "#FF6692",
           "#B6E880",
           "#FF97FF",
           "#FECB52"
          ],
          "font": {
           "color": "#2a3f5f"
          },
          "geo": {
           "bgcolor": "white",
           "lakecolor": "white",
           "landcolor": "#E5ECF6",
           "showlakes": true,
           "showland": true,
           "subunitcolor": "white"
          },
          "hoverlabel": {
           "align": "left"
          },
          "hovermode": "closest",
          "mapbox": {
           "style": "light"
          },
          "paper_bgcolor": "white",
          "plot_bgcolor": "#E5ECF6",
          "polar": {
           "angularaxis": {
            "gridcolor": "white",
            "linecolor": "white",
            "ticks": ""
           },
           "bgcolor": "#E5ECF6",
           "radialaxis": {
            "gridcolor": "white",
            "linecolor": "white",
            "ticks": ""
           }
          },
          "scene": {
           "xaxis": {
            "backgroundcolor": "#E5ECF6",
            "gridcolor": "white",
            "gridwidth": 2,
            "linecolor": "white",
            "showbackground": true,
            "ticks": "",
            "zerolinecolor": "white"
           },
           "yaxis": {
            "backgroundcolor": "#E5ECF6",
            "gridcolor": "white",
            "gridwidth": 2,
            "linecolor": "white",
            "showbackground": true,
            "ticks": "",
            "zerolinecolor": "white"
           },
           "zaxis": {
            "backgroundcolor": "#E5ECF6",
            "gridcolor": "white",
            "gridwidth": 2,
            "linecolor": "white",
            "showbackground": true,
            "ticks": "",
            "zerolinecolor": "white"
           }
          },
          "shapedefaults": {
           "line": {
            "color": "#2a3f5f"
           }
          },
          "ternary": {
           "aaxis": {
            "gridcolor": "white",
            "linecolor": "white",
            "ticks": ""
           },
           "baxis": {
            "gridcolor": "white",
            "linecolor": "white",
            "ticks": ""
           },
           "bgcolor": "#E5ECF6",
           "caxis": {
            "gridcolor": "white",
            "linecolor": "white",
            "ticks": ""
           }
          },
          "title": {
           "x": 0.05
          },
          "xaxis": {
           "automargin": true,
           "gridcolor": "white",
           "linecolor": "white",
           "ticks": "",
           "title": {
            "standoff": 15
           },
           "zerolinecolor": "white",
           "zerolinewidth": 2
          },
          "yaxis": {
           "automargin": true,
           "gridcolor": "white",
           "linecolor": "white",
           "ticks": "",
           "title": {
            "standoff": 15
           },
           "zerolinecolor": "white",
           "zerolinewidth": 2
          }
         }
        },
        "title": {
         "text": "Gross Income each Branch"
        },
        "xaxis": {
         "anchor": "y",
         "categoryarray": [
          "A",
          "B",
          "C"
         ],
         "categoryorder": "array",
         "domain": [
          0,
          1
         ],
         "title": {
          "text": "branch"
         }
        },
        "yaxis": {
         "anchor": "x",
         "domain": [
          0,
          1
         ],
         "title": {
          "text": "sum of gross_income"
         }
        }
       }
      }
     },
     "metadata": {},
     "output_type": "display_data"
    }
   ],
   "source": [
    "px.histogram(data.sort_values('branch'),x='branch', y='gross_income', color = 'branch', title='Gross Income each Branch')"
   ]
  },
  {
   "cell_type": "markdown",
   "metadata": {},
   "source": [
    "Branch that has the most income is branch C"
   ]
  },
  {
   "cell_type": "markdown",
   "metadata": {},
   "source": [
    "### Most Profitable Product\n",
    "Most Profitable Product is the amount of gross income we got each product"
   ]
  },
  {
   "cell_type": "markdown",
   "metadata": {},
   "source": [
    "Querying the data to take the total of gross income from product line"
   ]
  },
  {
   "cell_type": "code",
   "execution_count": 215,
   "metadata": {},
   "outputs": [
    {
     "data": {
      "text/html": [
       "<div>\n",
       "<style scoped>\n",
       "    .dataframe tbody tr th:only-of-type {\n",
       "        vertical-align: middle;\n",
       "    }\n",
       "\n",
       "    .dataframe tbody tr th {\n",
       "        vertical-align: top;\n",
       "    }\n",
       "\n",
       "    .dataframe thead th {\n",
       "        text-align: right;\n",
       "    }\n",
       "</style>\n",
       "<table border=\"1\" class=\"dataframe\">\n",
       "  <thead>\n",
       "    <tr style=\"text-align: right;\">\n",
       "      <th></th>\n",
       "      <th>product_line</th>\n",
       "      <th>gross_income</th>\n",
       "    </tr>\n",
       "  </thead>\n",
       "  <tbody>\n",
       "    <tr>\n",
       "      <th>0</th>\n",
       "      <td>Food and beverages</td>\n",
       "      <td>2673.5640</td>\n",
       "    </tr>\n",
       "    <tr>\n",
       "      <th>1</th>\n",
       "      <td>Sports and travel</td>\n",
       "      <td>2624.8965</td>\n",
       "    </tr>\n",
       "    <tr>\n",
       "      <th>2</th>\n",
       "      <td>Electronic accessories</td>\n",
       "      <td>2587.5015</td>\n",
       "    </tr>\n",
       "    <tr>\n",
       "      <th>3</th>\n",
       "      <td>Fashion accessories</td>\n",
       "      <td>2585.9950</td>\n",
       "    </tr>\n",
       "    <tr>\n",
       "      <th>4</th>\n",
       "      <td>Home and lifestyle</td>\n",
       "      <td>2564.8530</td>\n",
       "    </tr>\n",
       "    <tr>\n",
       "      <th>5</th>\n",
       "      <td>Health and beauty</td>\n",
       "      <td>2342.5590</td>\n",
       "    </tr>\n",
       "  </tbody>\n",
       "</table>\n",
       "</div>"
      ],
      "text/plain": [
       "             product_line  gross_income\n",
       "0      Food and beverages     2673.5640\n",
       "1       Sports and travel     2624.8965\n",
       "2  Electronic accessories     2587.5015\n",
       "3     Fashion accessories     2585.9950\n",
       "4      Home and lifestyle     2564.8530\n",
       "5       Health and beauty     2342.5590"
      ]
     },
     "execution_count": 215,
     "metadata": {},
     "output_type": "execute_result"
    }
   ],
   "source": [
    "profitable_product = data.groupby('product_line')['gross_income'].sum().sort_values(ascending=False).reset_index()\n",
    "profitable_product"
   ]
  },
  {
   "cell_type": "code",
   "execution_count": null,
   "metadata": {},
   "outputs": [],
   "source": [
    "print (f'The most profitable product is {profitable_product.values[0,0]} with {profitable_product.values[0,1]} gross income')"
   ]
  },
  {
   "cell_type": "markdown",
   "metadata": {},
   "source": [
    "Visualisation of Most Profitable Product"
   ]
  },
  {
   "cell_type": "code",
   "execution_count": 183,
   "metadata": {},
   "outputs": [
    {
     "data": {
      "application/vnd.plotly.v1+json": {
       "config": {
        "plotlyServerURL": "https://plot.ly"
       },
       "data": [
        {
         "alignmentgroup": "True",
         "hovertemplate": "color=Food and beverages<br>x=%{x}<br>y=%{y}<extra></extra>",
         "legendgroup": "Food and beverages",
         "marker": {
          "color": "#636efa",
          "pattern": {
           "shape": ""
          }
         },
         "name": "Food and beverages",
         "offsetgroup": "Food and beverages",
         "orientation": "v",
         "showlegend": true,
         "textposition": "auto",
         "type": "bar",
         "x": [
          "Food and beverages"
         ],
         "xaxis": "x",
         "y": [
          2673.564
         ],
         "yaxis": "y"
        },
        {
         "alignmentgroup": "True",
         "hovertemplate": "color=Sports and travel<br>x=%{x}<br>y=%{y}<extra></extra>",
         "legendgroup": "Sports and travel",
         "marker": {
          "color": "#EF553B",
          "pattern": {
           "shape": ""
          }
         },
         "name": "Sports and travel",
         "offsetgroup": "Sports and travel",
         "orientation": "v",
         "showlegend": true,
         "textposition": "auto",
         "type": "bar",
         "x": [
          "Sports and travel"
         ],
         "xaxis": "x",
         "y": [
          2624.8965
         ],
         "yaxis": "y"
        },
        {
         "alignmentgroup": "True",
         "hovertemplate": "color=Electronic accessories<br>x=%{x}<br>y=%{y}<extra></extra>",
         "legendgroup": "Electronic accessories",
         "marker": {
          "color": "#00cc96",
          "pattern": {
           "shape": ""
          }
         },
         "name": "Electronic accessories",
         "offsetgroup": "Electronic accessories",
         "orientation": "v",
         "showlegend": true,
         "textposition": "auto",
         "type": "bar",
         "x": [
          "Electronic accessories"
         ],
         "xaxis": "x",
         "y": [
          2587.5015
         ],
         "yaxis": "y"
        },
        {
         "alignmentgroup": "True",
         "hovertemplate": "color=Fashion accessories<br>x=%{x}<br>y=%{y}<extra></extra>",
         "legendgroup": "Fashion accessories",
         "marker": {
          "color": "#ab63fa",
          "pattern": {
           "shape": ""
          }
         },
         "name": "Fashion accessories",
         "offsetgroup": "Fashion accessories",
         "orientation": "v",
         "showlegend": true,
         "textposition": "auto",
         "type": "bar",
         "x": [
          "Fashion accessories"
         ],
         "xaxis": "x",
         "y": [
          2585.995
         ],
         "yaxis": "y"
        },
        {
         "alignmentgroup": "True",
         "hovertemplate": "color=Home and lifestyle<br>x=%{x}<br>y=%{y}<extra></extra>",
         "legendgroup": "Home and lifestyle",
         "marker": {
          "color": "#FFA15A",
          "pattern": {
           "shape": ""
          }
         },
         "name": "Home and lifestyle",
         "offsetgroup": "Home and lifestyle",
         "orientation": "v",
         "showlegend": true,
         "textposition": "auto",
         "type": "bar",
         "x": [
          "Home and lifestyle"
         ],
         "xaxis": "x",
         "y": [
          2564.853
         ],
         "yaxis": "y"
        },
        {
         "alignmentgroup": "True",
         "hovertemplate": "color=Health and beauty<br>x=%{x}<br>y=%{y}<extra></extra>",
         "legendgroup": "Health and beauty",
         "marker": {
          "color": "#19d3f3",
          "pattern": {
           "shape": ""
          }
         },
         "name": "Health and beauty",
         "offsetgroup": "Health and beauty",
         "orientation": "v",
         "showlegend": true,
         "textposition": "auto",
         "type": "bar",
         "x": [
          "Health and beauty"
         ],
         "xaxis": "x",
         "y": [
          2342.559
         ],
         "yaxis": "y"
        }
       ],
       "layout": {
        "barmode": "relative",
        "legend": {
         "title": {
          "text": "color"
         },
         "tracegroupgap": 0
        },
        "margin": {
         "t": 60
        },
        "template": {
         "data": {
          "bar": [
           {
            "error_x": {
             "color": "#2a3f5f"
            },
            "error_y": {
             "color": "#2a3f5f"
            },
            "marker": {
             "line": {
              "color": "#E5ECF6",
              "width": 0.5
             },
             "pattern": {
              "fillmode": "overlay",
              "size": 10,
              "solidity": 0.2
             }
            },
            "type": "bar"
           }
          ],
          "barpolar": [
           {
            "marker": {
             "line": {
              "color": "#E5ECF6",
              "width": 0.5
             },
             "pattern": {
              "fillmode": "overlay",
              "size": 10,
              "solidity": 0.2
             }
            },
            "type": "barpolar"
           }
          ],
          "carpet": [
           {
            "aaxis": {
             "endlinecolor": "#2a3f5f",
             "gridcolor": "white",
             "linecolor": "white",
             "minorgridcolor": "white",
             "startlinecolor": "#2a3f5f"
            },
            "baxis": {
             "endlinecolor": "#2a3f5f",
             "gridcolor": "white",
             "linecolor": "white",
             "minorgridcolor": "white",
             "startlinecolor": "#2a3f5f"
            },
            "type": "carpet"
           }
          ],
          "choropleth": [
           {
            "colorbar": {
             "outlinewidth": 0,
             "ticks": ""
            },
            "type": "choropleth"
           }
          ],
          "contour": [
           {
            "colorbar": {
             "outlinewidth": 0,
             "ticks": ""
            },
            "colorscale": [
             [
              0,
              "#0d0887"
             ],
             [
              0.1111111111111111,
              "#46039f"
             ],
             [
              0.2222222222222222,
              "#7201a8"
             ],
             [
              0.3333333333333333,
              "#9c179e"
             ],
             [
              0.4444444444444444,
              "#bd3786"
             ],
             [
              0.5555555555555556,
              "#d8576b"
             ],
             [
              0.6666666666666666,
              "#ed7953"
             ],
             [
              0.7777777777777778,
              "#fb9f3a"
             ],
             [
              0.8888888888888888,
              "#fdca26"
             ],
             [
              1,
              "#f0f921"
             ]
            ],
            "type": "contour"
           }
          ],
          "contourcarpet": [
           {
            "colorbar": {
             "outlinewidth": 0,
             "ticks": ""
            },
            "type": "contourcarpet"
           }
          ],
          "heatmap": [
           {
            "colorbar": {
             "outlinewidth": 0,
             "ticks": ""
            },
            "colorscale": [
             [
              0,
              "#0d0887"
             ],
             [
              0.1111111111111111,
              "#46039f"
             ],
             [
              0.2222222222222222,
              "#7201a8"
             ],
             [
              0.3333333333333333,
              "#9c179e"
             ],
             [
              0.4444444444444444,
              "#bd3786"
             ],
             [
              0.5555555555555556,
              "#d8576b"
             ],
             [
              0.6666666666666666,
              "#ed7953"
             ],
             [
              0.7777777777777778,
              "#fb9f3a"
             ],
             [
              0.8888888888888888,
              "#fdca26"
             ],
             [
              1,
              "#f0f921"
             ]
            ],
            "type": "heatmap"
           }
          ],
          "heatmapgl": [
           {
            "colorbar": {
             "outlinewidth": 0,
             "ticks": ""
            },
            "colorscale": [
             [
              0,
              "#0d0887"
             ],
             [
              0.1111111111111111,
              "#46039f"
             ],
             [
              0.2222222222222222,
              "#7201a8"
             ],
             [
              0.3333333333333333,
              "#9c179e"
             ],
             [
              0.4444444444444444,
              "#bd3786"
             ],
             [
              0.5555555555555556,
              "#d8576b"
             ],
             [
              0.6666666666666666,
              "#ed7953"
             ],
             [
              0.7777777777777778,
              "#fb9f3a"
             ],
             [
              0.8888888888888888,
              "#fdca26"
             ],
             [
              1,
              "#f0f921"
             ]
            ],
            "type": "heatmapgl"
           }
          ],
          "histogram": [
           {
            "marker": {
             "pattern": {
              "fillmode": "overlay",
              "size": 10,
              "solidity": 0.2
             }
            },
            "type": "histogram"
           }
          ],
          "histogram2d": [
           {
            "colorbar": {
             "outlinewidth": 0,
             "ticks": ""
            },
            "colorscale": [
             [
              0,
              "#0d0887"
             ],
             [
              0.1111111111111111,
              "#46039f"
             ],
             [
              0.2222222222222222,
              "#7201a8"
             ],
             [
              0.3333333333333333,
              "#9c179e"
             ],
             [
              0.4444444444444444,
              "#bd3786"
             ],
             [
              0.5555555555555556,
              "#d8576b"
             ],
             [
              0.6666666666666666,
              "#ed7953"
             ],
             [
              0.7777777777777778,
              "#fb9f3a"
             ],
             [
              0.8888888888888888,
              "#fdca26"
             ],
             [
              1,
              "#f0f921"
             ]
            ],
            "type": "histogram2d"
           }
          ],
          "histogram2dcontour": [
           {
            "colorbar": {
             "outlinewidth": 0,
             "ticks": ""
            },
            "colorscale": [
             [
              0,
              "#0d0887"
             ],
             [
              0.1111111111111111,
              "#46039f"
             ],
             [
              0.2222222222222222,
              "#7201a8"
             ],
             [
              0.3333333333333333,
              "#9c179e"
             ],
             [
              0.4444444444444444,
              "#bd3786"
             ],
             [
              0.5555555555555556,
              "#d8576b"
             ],
             [
              0.6666666666666666,
              "#ed7953"
             ],
             [
              0.7777777777777778,
              "#fb9f3a"
             ],
             [
              0.8888888888888888,
              "#fdca26"
             ],
             [
              1,
              "#f0f921"
             ]
            ],
            "type": "histogram2dcontour"
           }
          ],
          "mesh3d": [
           {
            "colorbar": {
             "outlinewidth": 0,
             "ticks": ""
            },
            "type": "mesh3d"
           }
          ],
          "parcoords": [
           {
            "line": {
             "colorbar": {
              "outlinewidth": 0,
              "ticks": ""
             }
            },
            "type": "parcoords"
           }
          ],
          "pie": [
           {
            "automargin": true,
            "type": "pie"
           }
          ],
          "scatter": [
           {
            "marker": {
             "colorbar": {
              "outlinewidth": 0,
              "ticks": ""
             }
            },
            "type": "scatter"
           }
          ],
          "scatter3d": [
           {
            "line": {
             "colorbar": {
              "outlinewidth": 0,
              "ticks": ""
             }
            },
            "marker": {
             "colorbar": {
              "outlinewidth": 0,
              "ticks": ""
             }
            },
            "type": "scatter3d"
           }
          ],
          "scattercarpet": [
           {
            "marker": {
             "colorbar": {
              "outlinewidth": 0,
              "ticks": ""
             }
            },
            "type": "scattercarpet"
           }
          ],
          "scattergeo": [
           {
            "marker": {
             "colorbar": {
              "outlinewidth": 0,
              "ticks": ""
             }
            },
            "type": "scattergeo"
           }
          ],
          "scattergl": [
           {
            "marker": {
             "colorbar": {
              "outlinewidth": 0,
              "ticks": ""
             }
            },
            "type": "scattergl"
           }
          ],
          "scattermapbox": [
           {
            "marker": {
             "colorbar": {
              "outlinewidth": 0,
              "ticks": ""
             }
            },
            "type": "scattermapbox"
           }
          ],
          "scatterpolar": [
           {
            "marker": {
             "colorbar": {
              "outlinewidth": 0,
              "ticks": ""
             }
            },
            "type": "scatterpolar"
           }
          ],
          "scatterpolargl": [
           {
            "marker": {
             "colorbar": {
              "outlinewidth": 0,
              "ticks": ""
             }
            },
            "type": "scatterpolargl"
           }
          ],
          "scatterternary": [
           {
            "marker": {
             "colorbar": {
              "outlinewidth": 0,
              "ticks": ""
             }
            },
            "type": "scatterternary"
           }
          ],
          "surface": [
           {
            "colorbar": {
             "outlinewidth": 0,
             "ticks": ""
            },
            "colorscale": [
             [
              0,
              "#0d0887"
             ],
             [
              0.1111111111111111,
              "#46039f"
             ],
             [
              0.2222222222222222,
              "#7201a8"
             ],
             [
              0.3333333333333333,
              "#9c179e"
             ],
             [
              0.4444444444444444,
              "#bd3786"
             ],
             [
              0.5555555555555556,
              "#d8576b"
             ],
             [
              0.6666666666666666,
              "#ed7953"
             ],
             [
              0.7777777777777778,
              "#fb9f3a"
             ],
             [
              0.8888888888888888,
              "#fdca26"
             ],
             [
              1,
              "#f0f921"
             ]
            ],
            "type": "surface"
           }
          ],
          "table": [
           {
            "cells": {
             "fill": {
              "color": "#EBF0F8"
             },
             "line": {
              "color": "white"
             }
            },
            "header": {
             "fill": {
              "color": "#C8D4E3"
             },
             "line": {
              "color": "white"
             }
            },
            "type": "table"
           }
          ]
         },
         "layout": {
          "annotationdefaults": {
           "arrowcolor": "#2a3f5f",
           "arrowhead": 0,
           "arrowwidth": 1
          },
          "autotypenumbers": "strict",
          "coloraxis": {
           "colorbar": {
            "outlinewidth": 0,
            "ticks": ""
           }
          },
          "colorscale": {
           "diverging": [
            [
             0,
             "#8e0152"
            ],
            [
             0.1,
             "#c51b7d"
            ],
            [
             0.2,
             "#de77ae"
            ],
            [
             0.3,
             "#f1b6da"
            ],
            [
             0.4,
             "#fde0ef"
            ],
            [
             0.5,
             "#f7f7f7"
            ],
            [
             0.6,
             "#e6f5d0"
            ],
            [
             0.7,
             "#b8e186"
            ],
            [
             0.8,
             "#7fbc41"
            ],
            [
             0.9,
             "#4d9221"
            ],
            [
             1,
             "#276419"
            ]
           ],
           "sequential": [
            [
             0,
             "#0d0887"
            ],
            [
             0.1111111111111111,
             "#46039f"
            ],
            [
             0.2222222222222222,
             "#7201a8"
            ],
            [
             0.3333333333333333,
             "#9c179e"
            ],
            [
             0.4444444444444444,
             "#bd3786"
            ],
            [
             0.5555555555555556,
             "#d8576b"
            ],
            [
             0.6666666666666666,
             "#ed7953"
            ],
            [
             0.7777777777777778,
             "#fb9f3a"
            ],
            [
             0.8888888888888888,
             "#fdca26"
            ],
            [
             1,
             "#f0f921"
            ]
           ],
           "sequentialminus": [
            [
             0,
             "#0d0887"
            ],
            [
             0.1111111111111111,
             "#46039f"
            ],
            [
             0.2222222222222222,
             "#7201a8"
            ],
            [
             0.3333333333333333,
             "#9c179e"
            ],
            [
             0.4444444444444444,
             "#bd3786"
            ],
            [
             0.5555555555555556,
             "#d8576b"
            ],
            [
             0.6666666666666666,
             "#ed7953"
            ],
            [
             0.7777777777777778,
             "#fb9f3a"
            ],
            [
             0.8888888888888888,
             "#fdca26"
            ],
            [
             1,
             "#f0f921"
            ]
           ]
          },
          "colorway": [
           "#636efa",
           "#EF553B",
           "#00cc96",
           "#ab63fa",
           "#FFA15A",
           "#19d3f3",
           "#FF6692",
           "#B6E880",
           "#FF97FF",
           "#FECB52"
          ],
          "font": {
           "color": "#2a3f5f"
          },
          "geo": {
           "bgcolor": "white",
           "lakecolor": "white",
           "landcolor": "#E5ECF6",
           "showlakes": true,
           "showland": true,
           "subunitcolor": "white"
          },
          "hoverlabel": {
           "align": "left"
          },
          "hovermode": "closest",
          "mapbox": {
           "style": "light"
          },
          "paper_bgcolor": "white",
          "plot_bgcolor": "#E5ECF6",
          "polar": {
           "angularaxis": {
            "gridcolor": "white",
            "linecolor": "white",
            "ticks": ""
           },
           "bgcolor": "#E5ECF6",
           "radialaxis": {
            "gridcolor": "white",
            "linecolor": "white",
            "ticks": ""
           }
          },
          "scene": {
           "xaxis": {
            "backgroundcolor": "#E5ECF6",
            "gridcolor": "white",
            "gridwidth": 2,
            "linecolor": "white",
            "showbackground": true,
            "ticks": "",
            "zerolinecolor": "white"
           },
           "yaxis": {
            "backgroundcolor": "#E5ECF6",
            "gridcolor": "white",
            "gridwidth": 2,
            "linecolor": "white",
            "showbackground": true,
            "ticks": "",
            "zerolinecolor": "white"
           },
           "zaxis": {
            "backgroundcolor": "#E5ECF6",
            "gridcolor": "white",
            "gridwidth": 2,
            "linecolor": "white",
            "showbackground": true,
            "ticks": "",
            "zerolinecolor": "white"
           }
          },
          "shapedefaults": {
           "line": {
            "color": "#2a3f5f"
           }
          },
          "ternary": {
           "aaxis": {
            "gridcolor": "white",
            "linecolor": "white",
            "ticks": ""
           },
           "baxis": {
            "gridcolor": "white",
            "linecolor": "white",
            "ticks": ""
           },
           "bgcolor": "#E5ECF6",
           "caxis": {
            "gridcolor": "white",
            "linecolor": "white",
            "ticks": ""
           }
          },
          "title": {
           "x": 0.05
          },
          "xaxis": {
           "automargin": true,
           "gridcolor": "white",
           "linecolor": "white",
           "ticks": "",
           "title": {
            "standoff": 15
           },
           "zerolinecolor": "white",
           "zerolinewidth": 2
          },
          "yaxis": {
           "automargin": true,
           "gridcolor": "white",
           "linecolor": "white",
           "ticks": "",
           "title": {
            "standoff": 15
           },
           "zerolinecolor": "white",
           "zerolinewidth": 2
          }
         }
        },
        "xaxis": {
         "anchor": "y",
         "domain": [
          0,
          1
         ],
         "title": {
          "text": "x"
         }
        },
        "yaxis": {
         "anchor": "x",
         "domain": [
          0,
          1
         ],
         "title": {
          "text": "y"
         }
        }
       }
      }
     },
     "metadata": {},
     "output_type": "display_data"
    }
   ],
   "source": [
    "most_profit_product_bar = data.groupby('product_line')['gross_income'].sum().reset_index()\n",
    "px.bar( x=profitable_product.product_line,y=profitable_product.gross_income, color=profitable_product.product_line )"
   ]
  },
  {
   "cell_type": "markdown",
   "metadata": {},
   "source": [
    "### Is there any relation between rating and price ?"
   ]
  },
  {
   "cell_type": "markdown",
   "metadata": {},
   "source": [
    "As a business man, we need to concern with our services and satisfaction form user. Therefore lets take a look in rating."
   ]
  },
  {
   "cell_type": "code",
   "execution_count": 187,
   "metadata": {},
   "outputs": [
    {
     "data": {
      "text/plain": [
       "<seaborn.axisgrid.FacetGrid at 0x21d52af4850>"
      ]
     },
     "execution_count": 187,
     "metadata": {},
     "output_type": "execute_result"
    },
    {
     "data": {
      "image/png": "[encoded data removed]",
      "text/plain": [
       "<Figure size 360x360 with 1 Axes>"
      ]
     },
     "metadata": {},
     "output_type": "display_data"
    }
   ],
   "source": [
    "sns.relplot( x=data[\"unit_price\"], y=data[\"rating\"],ci=None).set(title='Relation Between Price and Rating')"
   ]
  },
  {
   "cell_type": "markdown",
   "metadata": {},
   "source": [
    "There is no relation between ratings and price. It's mean the price doesn't affecting our price."
   ]
  },
  {
   "cell_type": "markdown",
   "metadata": {},
   "source": [
    "## Hypothesis Testing"
   ]
  },
  {
   "cell_type": "markdown",
   "metadata": {},
   "source": [
    "### I've been told that branch B has the lowest of the quanity. Is that true? If it is true then will hire new sales man. We will test whether the quantity sold in specific branch significantly different or not"
   ]
  },
  {
   "cell_type": "markdown",
   "metadata": {},
   "source": [
    "Querying the data of amount of quantity sold at operating hour and split it for each branch"
   ]
  },
  {
   "cell_type": "code",
   "execution_count": 199,
   "metadata": {},
   "outputs": [
    {
     "name": "stdout",
     "output_type": "stream",
     "text": [
      "The average of quantity in branch A is :  169.0\n",
      "The average of quantity in branch B is :  165.45454545454547\n",
      "The average of quantity in branch C is :  166.45454545454547\n"
     ]
    }
   ],
   "source": [
    "A_time= (data[data['branch']=='A'][['time','quantity']].groupby('time').sum())   \n",
    "B_time= (data[data['branch']=='B'][['time','quantity']].groupby('time').sum())\n",
    "C_time= (data[data['branch']=='C'][['time','quantity']].groupby('time').sum())\n",
    "\n",
    "print('The average of quantity in branch A is : ', A_time.quantity.mean())\n",
    "print('The average of quantity in branch B is : ',B_time.quantity.mean())\n",
    "print('The average of quantity in branch C is : ',C_time.quantity.mean())"
   ]
  },
  {
   "cell_type": "markdown",
   "metadata": {},
   "source": [
    "Well, Branch B and Branch C have the similar value. Let's do the test for this branches"
   ]
  },
  {
   "cell_type": "markdown",
   "metadata": {},
   "source": [
    "H0 : myuB = myuC\n",
    "\n",
    "H1 : myuB != myuC"
   ]
  },
  {
   "cell_type": "code",
   "execution_count": 203,
   "metadata": {},
   "outputs": [
    {
     "name": "stdout",
     "output_type": "stream",
     "text": [
      "P-value: [0.95442731]\n"
     ]
    }
   ],
   "source": [
    "t_stat, p_val = stats.ttest_ind(B_time,C_time)\n",
    "print('P-value:',p_val)"
   ]
  },
  {
   "cell_type": "markdown",
   "metadata": {},
   "source": [
    "With the use of 95 Confidence Interval (0.05), P value is higher than Critical Value. This conclude we can accept our null hypothesis (H0)."
   ]
  },
  {
   "cell_type": "markdown",
   "metadata": {},
   "source": [
    "Visualize:"
   ]
  },
  {
   "cell_type": "code",
   "execution_count": 209,
   "metadata": {},
   "outputs": [
    {
     "name": "stderr",
     "output_type": "stream",
     "text": [
      "D:\\Anaconda\\lib\\site-packages\\seaborn\\distributions.py:2619: FutureWarning:\n",
      "\n",
      "`distplot` is a deprecated function and will be removed in a future version. Please adapt your code to use either `displot` (a figure-level function with similar flexibility) or `histplot` (an axes-level function for histograms).\n",
      "\n",
      "D:\\Anaconda\\lib\\site-packages\\seaborn\\distributions.py:2619: FutureWarning:\n",
      "\n",
      "`distplot` is a deprecated function and will be removed in a future version. Please adapt your code to use either `displot` (a figure-level function with similar flexibility) or `histplot` (an axes-level function for histograms).\n",
      "\n"
     ]
    },
    {
     "data": {
      "text/plain": [
       "<matplotlib.legend.Legend at 0x21d54481a60>"
      ]
     },
     "execution_count": 209,
     "metadata": {},
     "output_type": "execute_result"
    },
    {
     "data": {
      "image/png": "[encoded data removed]",
      "text/plain": [
       "<Figure size 1152x360 with 1 Axes>"
      ]
     },
     "metadata": {},
     "output_type": "display_data"
    }
   ],
   "source": [
    "B_Population = np.random.normal(B_time.quantity.mean(),B_time.quantity.std(),80)\n",
    "C_Population = np.random.normal(C_time.quantity.mean(),C_time.quantity.std(),80)\n",
    "\n",
    "ci = stats.norm.interval(0.95, B_time.quantity.mean(), B_time.quantity.std())\n",
    "plt.figure(figsize=(16,5))\n",
    "sns.distplot(B_Population, label='Population of Branch B Average Quantity',color='blue')\n",
    "sns.distplot(C_Population, label='Population of Branch C Average Quantity',color='red')\n",
    "\n",
    "plt.axvline(B_time.quantity.mean(), color='blue', linewidth=2, label='France mean')\n",
    "plt.axvline(C_time.quantity.mean(), color='red',  linewidth=2, label='Germany mean')\n",
    "\n",
    "plt.axvline(ci[1], color='green', linestyle='dashed', linewidth=2, label='confidence threshold of 95%')\n",
    "plt.axvline(ci[0], color='green', linestyle='dashed', linewidth=2)\n",
    "\n",
    "plt.axvline(B_Population.mean()+t_stat[0]*B_Population.std(), color='black', linestyle='dashed', linewidth=2, label = 'Alternative Hypothesis')\n",
    "plt.axvline(B_Population.mean()-t_stat[0]*B_Population.std(), color='black', linestyle='dashed', linewidth=2)\n",
    "\n",
    "plt.legend()"
   ]
  },
  {
   "cell_type": "markdown",
   "metadata": {},
   "source": [
    "The blackline (our H1) is within our confidence interval. This means we **Fail to reject H0**. Therefore Branch B and Branch C have the same quantity of sold products. Branch B is not the lowest and you don't have to worry because it is not significant"
   ]
  },
  {
   "cell_type": "markdown",
   "metadata": {},
   "source": [
    "## Conclusions, Assumptions, and Overall Analysis"
   ]
  },
  {
   "cell_type": "markdown",
   "metadata": {},
   "source": [
    "### Conclusions\n",
    "1. To increase Revenue, several thing we should consider:\n",
    "    - Branch C have the most income\n",
    "    - Food and Beverages is the most Profitable Product\n",
    "2. To maintain our services, we should consider:\n",
    "    - 19.00 PM is the busiest time, especially branch C\n",
    "    - Rating and Price have no relation\n",
    "\n",
    "### Assumptions\n",
    "There's a lot to develop. The reason why branch C have the most income. Maybe it's because people located in branch C have high income, consumptive, and trust the supermarket. Even though Food and Beverages is the most profitable product, but other's branch is also having a similar value. Even so, we need to know every category of our product so we can do a better strategy (i.e : what people likes to buy in FnB? long term food ? snacks?). Customer Service might be not a major role, but to get a loyal customer we need to pay attention.\n",
    "\n",
    "### Overall Analysis\n",
    "Gross income play a big role in this data. Gross income enable us to find what our customer likes, needs, and how's our revenue for 3 months. This notebooks only shows few insight for the supermarket. In orther to develop it, we need help from Applications or Website."
   ]
  }
 ],
 "metadata": {
  "interpreter": {
   "hash": "07efdcd4b820c98a756949507a4d29d7862823915ec7477944641bea022f4f62"
  },
  "kernelspec": {
   "display_name": "Python 3.9.7 ('base')",
   "language": "python",
   "name": "python3"
  },
  "language_info": {
   "codemirror_mode": {
    "name": "ipython",
    "version": 3
   },
   "file_extension": ".py",
   "mimetype": "text/x-python",
   "name": "python",
   "nbconvert_exporter": "python",
   "pygments_lexer": "ipython3",
   "version": "3.9.7"
  },
  "orig_nbformat": 4
 },
 "nbformat": 4,
 "nbformat_minor": 2
}
